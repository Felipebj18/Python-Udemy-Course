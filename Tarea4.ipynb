{
 "cells": [
  {
   "cell_type": "code",
   "execution_count": 4,
   "metadata": {},
   "outputs": [
    {
     "name": "stdout",
     "output_type": "stream",
     "text": [
      "número impar\n",
      "Número par\n",
      "Número par\n",
      "número impar\n",
      "Número par\n",
      "número impar\n",
      "Número par\n",
      "número impar\n",
      "número impar\n",
      "número impar\n",
      "número impar\n",
      "Número par\n",
      "Número par\n"
     ]
    }
   ],
   "source": [
    "#1\n",
    "num = 1\n",
    "\n",
    "while(num!=0):\n",
    "    num = int(input(\"Ingresa un número\"))\n",
    "    if(num%2==0):\n",
    "        print(\"Número par\")\n",
    "    else:\n",
    "        print(\"número impar\")\n"
   ]
  },
  {
   "cell_type": "code",
   "execution_count": 8,
   "metadata": {},
   "outputs": [
    {
     "name": "stdout",
     "output_type": "stream",
     "text": [
      "La letra z NO está contenida en la palabra arbol\n"
     ]
    }
   ],
   "source": [
    "#2\n",
    "input_palabra = input(\"ingrese una palabra\")\n",
    "input_letra = input(\"ingrese una letra\")\n",
    "\n",
    "contiene = False\n",
    "for letra in input_palabra:\n",
    "    if letra == input_letra:\n",
    "        contiene=True\n",
    "        \n",
    "if(contiene):\n",
    "    print(f\"La letra {input_letra} sí está contenida en la palabra {input_palabra}\")\n",
    "else:\n",
    "    print(f\"La letra {input_letra} NO está contenida en la palabra {input_palabra}\")"
   ]
  },
  {
   "cell_type": "code",
   "execution_count": 10,
   "metadata": {},
   "outputs": [
    {
     "name": "stdout",
     "output_type": "stream",
     "text": [
      "Compra finalizada\n",
      "Ha excedido el presupuesto. Su compra ha finalizado\n"
     ]
    }
   ],
   "source": [
    "#3\n",
    "total = 0\n",
    "while (total<200):\n",
    "    precio = int(input(\"Ingrese un precio\"))\n",
    "    total+=precio\n",
    "    if (precio==0):\n",
    "        print(\"Compra finalizada\")\n",
    "        break\n",
    "print(\"Ha excedido el presupuesto. Su compra ha finalizado\")\n",
    "    "
   ]
  },
  {
   "cell_type": "code",
   "execution_count": 18,
   "metadata": {},
   "outputs": [
    {
     "name": "stdout",
     "output_type": "stream",
     "text": [
      "Compra finalizada\n"
     ]
    }
   ],
   "source": [
    "#3\n",
    "total = 0\n",
    "while (True):\n",
    "    precio = int(input(\"Ingrese un precio\"))\n",
    "    total+=precio\n",
    "    if (precio==0):\n",
    "        print(\"Compra finalizada\")\n",
    "        break\n",
    "    elif(total>=200):\n",
    "        print(\"Ha excedido el monto permitido. Compra finalizada\")\n",
    "        break\n",
    "        "
   ]
  },
  {
   "cell_type": "code",
   "execution_count": 22,
   "metadata": {},
   "outputs": [
    {
     "name": "stdout",
     "output_type": "stream",
     "text": [
      "Has introducido 6 números positivos y 3 números negativos\n",
      "Positivos [5, 6, 7, 8, 9, 1]\n",
      "Negativos [-3, -3, -5]\n"
     ]
    }
   ],
   "source": [
    "#4\n",
    "num = 1\n",
    "positivos=[]\n",
    "negativos = []\n",
    "while(num!=0):\n",
    "    num = int(input(\"Ingrese un número entero\"))\n",
    "    if(num>0):\n",
    "        positivos.append(num)\n",
    "    elif(num<0):\n",
    "        negativos.append(num)\n",
    "print(f\"Has introducido {len(positivos)} números positivos y {len(negativos)} números negativos\")\n",
    "print(\"Positivos\",positivos)\n",
    "print(\"Negativos\",negativos)"
   ]
  },
  {
   "cell_type": "code",
   "execution_count": 27,
   "metadata": {},
   "outputs": [
    {
     "name": "stdout",
     "output_type": "stream",
     "text": [
      "El promedio de los números es 7.5\n"
     ]
    }
   ],
   "source": [
    "#5\n",
    "num = 1\n",
    "suma = 0\n",
    "contador = 0\n",
    "while(num!=0):\n",
    "    num = int(input(\"Ingrese un número entero\"))\n",
    "    suma+=num\n",
    "    contador+=1\n",
    "print(f\"El promedio de los números es {suma/(contador-1)}\")"
   ]
  },
  {
   "cell_type": "code",
   "execution_count": 29,
   "metadata": {},
   "outputs": [
    {
     "name": "stdout",
     "output_type": "stream",
     "text": [
      "5\n",
      "6\n",
      "7\n",
      "8\n",
      "9\n"
     ]
    }
   ],
   "source": [
    "#6\n",
    "izq = int(input(\"Ingrese el número de la izquierda\"))\n",
    "der = int(input(\"Ingrese el número de la derecha\"))\n",
    "\n",
    "for i in range(izq,der+1):\n",
    "    print(i)"
   ]
  },
  {
   "cell_type": "code",
   "execution_count": 31,
   "metadata": {},
   "outputs": [
    {
     "name": "stdout",
     "output_type": "stream",
     "text": [
      "la suma de los múltiplos de tres en el intervalo [2,10] es: 18\n"
     ]
    }
   ],
   "source": [
    "#7\n",
    "izq = int(input(\"Ingrese el número de la izquierda\"))\n",
    "der = int(input(\"Ingrese el número de la derecha\"))\n",
    "\n",
    "suma=0\n",
    "for i in range(izq,der+1):\n",
    "    if(i%3==0):\n",
    "        suma+=i\n",
    "\n",
    "        \n",
    "print(f\"la suma de los múltiplos de tres en el intervalo [{izq},{der}] es: {suma}\")"
   ]
  },
  {
   "cell_type": "code",
   "execution_count": 35,
   "metadata": {},
   "outputs": [
    {
     "name": "stdout",
     "output_type": "stream",
     "text": [
      "El producto de los números ingresados es: 120\n"
     ]
    }
   ],
   "source": [
    "#8\n",
    "n = int(input(\"Indique cuántos números va a introducir: \"))\n",
    "producto= 1\n",
    "for i in range (n):\n",
    "    input_num=int(input(f\"Ingrese el número {i+1}:\"))\n",
    "    producto*=input_num\n",
    "print(f\"El producto de los números ingresados es: {producto}\")"
   ]
  },
  {
   "cell_type": "code",
   "execution_count": 36,
   "metadata": {},
   "outputs": [
    {
     "name": "stdout",
     "output_type": "stream",
     "text": [
      "2002\n",
      "2003\n",
      "2004\n",
      "2005\n",
      "2006\n",
      "2007\n",
      "2008\n",
      "2009\n",
      "2010\n",
      "2011\n",
      "2012\n",
      "2013\n",
      "2014\n",
      "2015\n",
      "2016\n",
      "2017\n",
      "2018\n",
      "2019\n",
      "2020\n",
      "2021\n",
      "2022\n",
      "2023\n",
      "2024\n"
     ]
    }
   ],
   "source": [
    "#9\n",
    "edad = int(input(\"Ingrese su edad\"))\n",
    "ano_actual = int(input(\"Ingrese el año actual\"))\n",
    "ano_nacimiento = ano_actual-edad\n",
    "\n",
    "for i in range (ano_nacimiento,ano_actual+1):\n",
    "    print(i)"
   ]
  },
  {
   "cell_type": "code",
   "execution_count": 99,
   "metadata": {},
   "outputs": [
    {
     "name": "stdout",
     "output_type": "stream",
     "text": [
      "*           * * * * * \n",
      "* *          * * * * * \n",
      "* * *         * * * * * \n",
      "* * * *        * * * * * \n",
      "* * * * *       * * * * * \n"
     ]
    }
   ],
   "source": [
    "num = int(input(\"Ingrese la longitud para los lados del triángulo y el cuadrado\"))\n",
    "if(num<=0):\n",
    "    print(\"No puede ingresar valores negativos ni cero\")\n",
    "else:\n",
    "    contador = 0\n",
    "    for i in range(1,num+1):\n",
    "        print(\"* \"*(i)+\" \"*(2*num-contador)+\"* \"*num)\n",
    "        contador+=1\n"
   ]
  }
 ],
 "metadata": {
  "kernelspec": {
   "display_name": "base",
   "language": "python",
   "name": "python3"
  },
  "language_info": {
   "codemirror_mode": {
    "name": "ipython",
    "version": 3
   },
   "file_extension": ".py",
   "mimetype": "text/x-python",
   "name": "python",
   "nbconvert_exporter": "python",
   "pygments_lexer": "ipython3",
   "version": "3.9.7"
  }
 },
 "nbformat": 4,
 "nbformat_minor": 2
}
