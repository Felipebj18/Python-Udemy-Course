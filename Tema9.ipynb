{
 "cells": [
  {
   "cell_type": "code",
   "execution_count": 1,
   "metadata": {},
   "outputs": [
    {
     "name": "stdout",
     "output_type": "stream",
     "text": [
      "[(4, 'positivo'), (0, 'cero'), (-7, 'negativo')]\n"
     ]
    }
   ],
   "source": [
    "#números enteros su signo\n",
    "n=int(input(\"¿Cuántos números vas a introducir?\"))\n",
    "\n",
    "nums=[]\n",
    "for i in range(n):\n",
    "    sign=\"\"\n",
    "    num=int(input())\n",
    "    if num > 0:\n",
    "        sign=\"positivo\"\n",
    "    elif(num==0):\n",
    "        sign=\"cero\"\n",
    "    else:\n",
    "        sign = \"negativo\"\n",
    "    nums.append((num,sign))\n",
    "print(nums)"
   ]
  },
  {
   "cell_type": "code",
   "execution_count": 2,
   "metadata": {},
   "outputs": [
    {
     "name": "stdout",
     "output_type": "stream",
     "text": [
      "Debes introducir un número entero entre 1 y 10\n",
      "(3, 'suspenso')\n",
      "(5, 'aprobado')\n",
      "(7, 'Notable')\n",
      "(10, 'Excelente')\n",
      "(9, 'Excelente')\n",
      "Debes introducir un número entero entre 1 y 10\n",
      "Debes introducir un número entero entre 1 y 10\n"
     ]
    }
   ],
   "source": [
    "num=int(input(\"Ingrese una nota (del 1 al 10)\"))\n",
    "while(num!=0):\n",
    "    grade=\"\"\n",
    "    if(num<1):\n",
    "        print(\"Debes introducir un número entero entre 1 y 10\")\n",
    "    elif (num<5):\n",
    "        grade=\"suspenso\"\n",
    "        print((num,grade))\n",
    "    elif(num<7):\n",
    "        grade=\"aprobado\"\n",
    "        print((num,grade))\n",
    "    elif(num<9):\n",
    "        grade=\"Notable\"\n",
    "        print((num,grade))    \n",
    "    elif(num<=10):\n",
    "        grade=\"Excelente\"\n",
    "        print((num,grade))\n",
    "    else:\n",
    "        print(\"Debes introducir un número entero entre 1 y 10\")\n",
    "    num=int(input(\"Ingrese una nota (del 1 al 10)\"))    "
   ]
  },
  {
   "cell_type": "code",
   "execution_count": 4,
   "metadata": {},
   "outputs": [
    {
     "name": "stdout",
     "output_type": "stream",
     "text": [
      "[('Vocales', 8), ('Consonantes', 10), ('Espacios', 4)]\n"
     ]
    }
   ],
   "source": [
    "sentence=input(\"ingrese una frase\")\n",
    "sentence=sentence.lower()\n",
    "vowels=[\"a\",\"e\",\"i\",\"o\",\"u\"]\n",
    "vowels_count = 0\n",
    "consonants_count=0\n",
    "blanks_count = 0\n",
    "\n",
    "\n",
    "for c in sentence:\n",
    "    if c in vowels:\n",
    "        vowels_count+=1\n",
    "    elif c.isalpha():\n",
    "        consonants_count+=1\n",
    "    elif c == \" \":\n",
    "        blanks_count+=1\n",
    "info=[(\"Vocales\",vowels_count),(\"Consonantes\",consonants_count),(\"Espacios\",blanks_count)]\n",
    "print(info)"
   ]
  },
  {
   "cell_type": "code",
   "execution_count": 7,
   "metadata": {},
   "outputs": [
    {
     "name": "stdout",
     "output_type": "stream",
     "text": [
      "['Mates', 'Lengua', 'Historia', 'Informática', 'Música']\n",
      "Notas medias\n",
      "La nota media de Mates es 10.0\n",
      "La nota media de Lengua es 7.0\n",
      "La nota media de Historia es 6.0\n",
      "La nota media de Informática es 9.5\n",
      "La nota media de Música es desconocida\n"
     ]
    }
   ],
   "source": [
    "subjects = [\"Mates\", \"Lengua\", \"Historia\", \"Informática\", \"Música\"]\n",
    "grades = []\n",
    "print(subjects)\n",
    "s=input(\"indica la asignatura\")\n",
    "while(s in subjects):\n",
    "    grade=int(input(\"Introduce una nota entre 1 y 10\"))\n",
    "    grades.append((s,grade))\n",
    "    s=input(\"indica la asignatura\")\n",
    "means={\"Mates\":[], \"Lengua\":[], \"Historia\":[], \"Informática\":[], \"Música\":[]}\n",
    "for item in grades:\n",
    "    means[item[0]].append(item[1])\n",
    "print(\"Notas medias\")\n",
    "for key,val in means.items():\n",
    "    print(f\"La nota media de {key} es {'desconocida' if len(val)==0 else sum(val)/len(val)}\")"
   ]
  },
  {
   "cell_type": "code",
   "execution_count": 9,
   "metadata": {},
   "outputs": [
    {
     "data": {
      "text/plain": [
       "'Kiwi'"
      ]
     },
     "execution_count": 9,
     "metadata": {},
     "output_type": "execute_result"
    }
   ],
   "source": [
    "#Unpacking \n",
    "fruits=\"Cereza\",\"Kiwi\",\"Pera\",\"Naranja\"\n",
    "(f1,f2,f3,f4)=fruits\n",
    "f2"
   ]
  },
  {
   "cell_type": "code",
   "execution_count": 10,
   "metadata": {},
   "outputs": [
    {
     "name": "stdout",
     "output_type": "stream",
     "text": [
      "<class 'list'> ['Pera', 'Naranja']\n"
     ]
    }
   ],
   "source": [
    "f1,f2,*restFruits=fruits#las que sobran se agrupan en una lista que se indica con \"*\"\n",
    "print(type(restFruits),restFruits)"
   ]
  },
  {
   "cell_type": "code",
   "execution_count": null,
   "metadata": {},
   "outputs": [],
   "source": [
    "fruits = \"Cereza\", \"Kiwi\", \"Pera\", \"Naranja\", \"Melocotón\", \"Sandía\", \"Melón\"\n",
    "\n",
    "(fruit1, *restFruits, fruit2, fruit3) = fruits"
   ]
  },
  {
   "cell_type": "code",
   "execution_count": 11,
   "metadata": {},
   "outputs": [
    {
     "name": "stdout",
     "output_type": "stream",
     "text": [
      "4\n"
     ]
    }
   ],
   "source": [
    "#usar solo los elementos que me sirven de la tupla\n",
    "punto=(1,2,3)\n",
    "x,_,z=punto\n",
    "print(x+z)"
   ]
  },
  {
   "cell_type": "code",
   "execution_count": null,
   "metadata": {},
   "outputs": [],
   "source": [
    "#Omitir elementos que no se necesitan\n",
    "fruits = \"Cereza\", \"Kiwi\", \"Pera\", \"Naranja\", \"Melocotón\", \"Sandía\", \"Melón\"\n",
    "\n",
    "(fruit1, *_, fruit2, fruit3) = fruits"
   ]
  },
  {
   "cell_type": "code",
   "execution_count": 12,
   "metadata": {},
   "outputs": [
    {
     "name": "stdout",
     "output_type": "stream",
     "text": [
      "El punto (1.0,1.0) pertenece al I cuadrante\n",
      "El punto (-1.0,1.0) pertenece al II cuadrante\n",
      "El punto (-1.0,-1.0) pertenece al III cuadrante\n",
      "El punto (1.0,-1.0) pertenece al IIV cuadrante\n"
     ]
    }
   ],
   "source": [
    "n=int(input(\"Cuantos Puntos\"))\n",
    "points=[]\n",
    "for i in range(n):\n",
    "    x=float(input(\"Indica la coordenada x\"))\n",
    "    y=float(input(\"Indica la coordenada y\"))\n",
    "    if x>=0 and y >=0:\n",
    "        quadrant=\"I\"\n",
    "    if x<=0 and y >=0:\n",
    "        quadrant=\"II\"\n",
    "    if x<=0 and y <=0:\n",
    "        quadrant=\"III\"\n",
    "    if x>=0 and y <=0:\n",
    "        quadrant=\"IIV\"\n",
    "    if x==0 and y ==0:\n",
    "        quadrant=\"center\"\n",
    "    points.append((x,y,quadrant))\n",
    "for point in points:\n",
    "    x,y,quadrant=point\n",
    "    print(f\"El punto ({x},{y}) pertenece al {quadrant} cuadrante\")"
   ]
  },
  {
   "cell_type": "code",
   "execution_count": 13,
   "metadata": {},
   "outputs": [
    {
     "name": "stdout",
     "output_type": "stream",
     "text": [
      "La cereza es roja\n",
      "El color del kiwi es amarillo\n",
      "La pera es verde\n",
      "La naranja es naranja\n"
     ]
    }
   ],
   "source": [
    "t = (\"cereza\", \"roja\"), (\"kiwi\", \"amarillo\"), (\"pera\", \"verde\"), (\"naranja\", \"naranja\")\n",
    "\n",
    "for fruit, color in t:\n",
    "  if fruit == \"kiwi\":\n",
    "    print(\"El color del\", fruit, \"es\", color)\n",
    "  else:\n",
    "    print(\"La {} es {}\".format(fruit, color))"
   ]
  },
  {
   "cell_type": "code",
   "execution_count": 14,
   "metadata": {},
   "outputs": [
    {
     "name": "stdout",
     "output_type": "stream",
     "text": [
      "<zip object at 0x00000215054B1140>\n"
     ]
    }
   ],
   "source": [
    "#FUnción ZIP\n",
    "objects = [\"libreta\", \"pluma\", \"portaminas\", \"pack_minas\"]\n",
    "price = [5.00, 3.30, 1.29, 0.50]\n",
    "items = zip(objects, price)\n",
    "print(items)"
   ]
  },
  {
   "cell_type": "code",
   "execution_count": 15,
   "metadata": {},
   "outputs": [
    {
     "data": {
      "text/plain": [
       "[('libreta', 5.0), ('pluma', 3.3), ('portaminas', 1.29), ('pack_minas', 0.5)]"
      ]
     },
     "execution_count": 15,
     "metadata": {},
     "output_type": "execute_result"
    }
   ],
   "source": [
    "items = zip(objects, price)\n",
    "list(items)"
   ]
  },
  {
   "cell_type": "code",
   "execution_count": 16,
   "metadata": {},
   "outputs": [
    {
     "name": "stdout",
     "output_type": "stream",
     "text": [
      "El objeto libreta cuesta $5.0\n",
      "El objeto pluma cuesta $3.3\n",
      "El objeto portaminas cuesta $1.29\n",
      "El objeto pack_minas cuesta $0.5\n"
     ]
    }
   ],
   "source": [
    "for obj,pr in zip(objects,price):\n",
    "    print(f\"El objeto {obj} cuesta ${pr}\")"
   ]
  },
  {
   "cell_type": "code",
   "execution_count": 18,
   "metadata": {},
   "outputs": [
    {
     "name": "stdout",
     "output_type": "stream",
     "text": [
      "(('Hola', 'H'), ('Caracola', 'C'), ('piña', 'p'), ('playa', 'p'), ('barbacoa', 'b'), ('ventana', 'v'), ('mosca', 'm'))\n"
     ]
    }
   ],
   "source": [
    "words=[\"Hola\",\"Caracola\",\"piña\",\"playa\",\"barbacoa\",\"ventana\",\"mosca\"]\n",
    "first_letters = []\n",
    "for w in words:\n",
    "    first_letters.append(w[0])\n",
    "print(tuple(zip(words,first_letters)))\n"
   ]
  }
 ],
 "metadata": {
  "kernelspec": {
   "display_name": "base",
   "language": "python",
   "name": "python3"
  },
  "language_info": {
   "codemirror_mode": {
    "name": "ipython",
    "version": 3
   },
   "file_extension": ".py",
   "mimetype": "text/x-python",
   "name": "python",
   "nbconvert_exporter": "python",
   "pygments_lexer": "ipython3",
   "version": "3.9.7"
  }
 },
 "nbformat": 4,
 "nbformat_minor": 2
}
