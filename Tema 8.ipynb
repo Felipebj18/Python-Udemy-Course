{
 "cells": [
  {
   "cell_type": "code",
   "execution_count": 3,
   "metadata": {},
   "outputs": [
    {
     "name": "stdout",
     "output_type": "stream",
     "text": [
      "{'m', 's', 't', 'e', 'l', 'h', 'c', 'á', 'ó', 'o', 'a', ' '}\n"
     ]
    }
   ],
   "source": [
    "frase=input(\"Introduzca una frase\")\n",
    "letters=set()\n",
    "for c in frase.lower():\n",
    "    letters.add(c)\n",
    "print(letters)"
   ]
  },
  {
   "cell_type": "code",
   "execution_count": 10,
   "metadata": {},
   "outputs": [
    {
     "data": {
      "text/plain": [
       "set()"
      ]
     },
     "execution_count": 10,
     "metadata": {},
     "output_type": "execute_result"
    }
   ],
   "source": [
    "w1=input(\"Introduzca la palabra 1\")\n",
    "w2=input(\"Introduzca la palabra 2\")\n",
    "s1=set(w1.lower())\n",
    "s2=set(w2.lower())\n",
    "\n",
    "intersection = s1.intersection(s2)\n",
    "intersection"
   ]
  },
  {
   "cell_type": "code",
   "execution_count": 13,
   "metadata": {},
   "outputs": [
    {
     "name": "stdout",
     "output_type": "stream",
     "text": [
      "{1, 5, 6, 7, 8}\n"
     ]
    }
   ],
   "source": [
    "a=int(input(\"a = \"))\n",
    "b=int(input(\"b = \"))\n",
    "c=int(input(\"c = \"))\n",
    "d=int(input(\"d = \"))\n",
    "\n",
    "if b<a or d<c:\n",
    "    print(\"No has proporcionado dos intervalos\")\n",
    "else:\n",
    "    ab=set(range(a,b + 1))\n",
    "    cd=set(range(c,d + 1))\n",
    "    print(ab.symmetric_difference(cd))"
   ]
  },
  {
   "cell_type": "code",
   "execution_count": 18,
   "metadata": {},
   "outputs": [
    {
     "name": "stdout",
     "output_type": "stream",
     "text": [
      "{2, 3, 5, 7, 11, 13, 17, 19, 23, 29, 31, 37, 41, 43, 47, 53, 59, 61, 67, 71, 73, 79, 83, 89, 97, 101, 103, 107, 109, 113}\n"
     ]
    }
   ],
   "source": [
    "n=int(input(\"Introduce un número entero mayor que 2\"))\n",
    "primes=set(range(2,n+1))\n",
    "numbers=list(range(2,n+1))\n",
    "multiples=[True for x in range(len(numbers))]\n",
    "\n",
    "for i in range(len(numbers)):\n",
    "    if multiples[i]==False:\n",
    "        continue#se sale de la ejecución\n",
    "    for j in range(i+1,len(numbers)):\n",
    "        if numbers[j] % numbers[i]==0:\n",
    "            multiples[j] = False\n",
    "            primes.discard(numbers[j])\n",
    "print(primes)"
   ]
  },
  {
   "cell_type": "code",
   "execution_count": 23,
   "metadata": {},
   "outputs": [
    {
     "name": "stdout",
     "output_type": "stream",
     "text": [
      "El valor máximo del conjunto {3, 20, 5, 9, -5, 30} es 30\n"
     ]
    }
   ],
   "source": [
    "#Elemento máximo de un conjunto\n",
    "myset={20,3,5,9,30,-5,30}\n",
    "\n",
    "max=-999999\n",
    "\n",
    "for e in myset:\n",
    "    if e > max:\n",
    "        max=e\n",
    "print(f\"El valor máximo del conjunto {myset} es {max}\")"
   ]
  },
  {
   "cell_type": "code",
   "execution_count": 26,
   "metadata": {},
   "outputs": [
    {
     "name": "stdout",
     "output_type": "stream",
     "text": [
      "Los divisores del número 230 son: {1, 2, 5, 230, 10, 46, 115, 23}\n"
     ]
    }
   ],
   "source": [
    "#1\n",
    "num = int(input(\"Introduce un número\"))\n",
    "divisores=set()\n",
    "for i in range(num,0,-1):\n",
    "    if(num%i==0):\n",
    "        divisores.add(i)\n",
    "print(f\"Los divisores del número {num} son: {divisores}\")"
   ]
  },
  {
   "cell_type": "code",
   "execution_count": 27,
   "metadata": {},
   "outputs": [
    {
     "name": "stdout",
     "output_type": "stream",
     "text": [
      "El mínimo del conjunto {-1246, 3, 4, 76, 32432, 21, 87, -8, 56, -3} es -1246\n"
     ]
    }
   ],
   "source": [
    "#2\n",
    "s={4,3,76,21,-3,-1246,56,87,-3,-8,32432}\n",
    "min=10e20\n",
    "for number in s:\n",
    "    if(number<min):\n",
    "        min=number\n",
    "print(f\"El mínimo del conjunto {s} es {min}\")"
   ]
  },
  {
   "cell_type": "code",
   "execution_count": 33,
   "metadata": {},
   "outputs": [
    {
     "name": "stdout",
     "output_type": "stream",
     "text": [
      "Palabras que empiezan por h: {'hoy', 'Hola', 'hastiado'}\n"
     ]
    }
   ],
   "source": [
    "#3\n",
    "sentence=input(\"Ingrese una frase\")\n",
    "letter= input(\"Ingrese la letra que quiere buscar\").lower()\n",
    "\n",
    "selected_words=set()\n",
    "frase= set(sentence.split(\" \"))\n",
    "for palabra in frase:\n",
    "    if palabra.lower().startswith(letter):\n",
    "        selected_words.add(palabra)\n",
    "print(f\"Palabras que empiezan por {letter}: {selected_words}\")"
   ]
  },
  {
   "cell_type": "code",
   "execution_count": 41,
   "metadata": {},
   "outputs": [
    {
     "name": "stdout",
     "output_type": "stream",
     "text": [
      "El caracter con el mayor código ascii del conjunto {'b', 'S', '!', '4', '5', '@', 'a', 'c', '3', 'ñ', '6'} es ñ (241)\n"
     ]
    }
   ],
   "source": [
    "#4\n",
    "chars = {\"a\",\"b\",\"c\",\"@\",\"!\",\"4\",\"3\",\"5\",\"6\",\"S\",\"ñ\",}\n",
    "ascii_codes=[ord(a) for a in chars]\n",
    "max=-99999999\n",
    "for code in ascii_codes:\n",
    "    if(code>max):\n",
    "        max=code\n",
    "print(f\"El caracter con el mayor código ascii del conjunto {chars} es {chr(max)} ({max})\")"
   ]
  },
  {
   "cell_type": "code",
   "execution_count": 96,
   "metadata": {},
   "outputs": [
    {
     "name": "stdout",
     "output_type": "stream",
     "text": [
      "El caracter con el mayor código ascii del conjunto {'b', 'S', '!', '4', '5', '@', 'a', 'c', '3', 'ñ', '6'} es ! (33)\n"
     ]
    }
   ],
   "source": [
    "#5\n",
    "chars = {\"a\",\"b\",\"c\",\"@\",\"!\",\"4\",\"3\",\"5\",\"6\",\"S\",\"ñ\",}\n",
    "ascii_codes=[ord(a) for a in chars]\n",
    "min=999999\n",
    "for code in ascii_codes:\n",
    "    if(code<min):\n",
    "        min=code\n",
    "print(f\"El caracter con el mayor código ascii del conjunto {chars} es {chr(min)} ({min})\")"
   ]
  },
  {
   "cell_type": "code",
   "execution_count": 42,
   "metadata": {},
   "outputs": [
    {
     "name": "stdout",
     "output_type": "stream",
     "text": [
      "Palabras que contienen la letra a: {'Hola', 'amor', 'estas,'}\n"
     ]
    }
   ],
   "source": [
    "#6\n",
    "sentence=input(\"Ingrese una frase\")\n",
    "letter= input(\"Ingrese la letra que quiere buscar\").lower()\n",
    "\n",
    "selected_words=set()\n",
    "frase= set(sentence.split(\" \"))\n",
    "for palabra in frase:\n",
    "    if letter in palabra.lower():\n",
    "        selected_words.add(palabra)\n",
    "print(f\"Palabras que contienen la letra {letter}: {selected_words}\")"
   ]
  },
  {
   "cell_type": "code",
   "execution_count": 82,
   "metadata": {},
   "outputs": [
    {
     "name": "stdout",
     "output_type": "stream",
     "text": [
      "{'Felipe', ' escobar', ' Jose', ' Buitrago', ' Maria', ' Jimenez'}\n"
     ]
    }
   ],
   "source": [
    "#7\n",
    "sentence=input(\"Ingrese una frase\")\n",
    "palabras=[]\n",
    "espacios=[]\n",
    "for i in range(len(sentence)):\n",
    "    if(sentence[i]==\" \"):\n",
    "        espacios.append(i)\n",
    "\n",
    "primera_palabra=True\n",
    "contador=0\n",
    "for i in range(len(espacios)):\n",
    "    if(primera_palabra==True):\n",
    "        palabras.append(sentence[:espacios[i]]) \n",
    "        primera_palabra=False\n",
    "\n",
    "    else:\n",
    "        if(i==(len(espacios)-1)):\n",
    "            palabras.append(sentence[espacios[i-1]:espacios[i]])\n",
    "            palabras.append(sentence[espacios[i]:])\n",
    "        else:\n",
    "            palabras.append(sentence[espacios[i-1]:espacios[i]])\n",
    "set_palabras=set(palabras)\n",
    "print(set_palabras)"
   ]
  },
  {
   "cell_type": "code",
   "execution_count": 87,
   "metadata": {},
   "outputs": [
    {
     "name": "stdout",
     "output_type": "stream",
     "text": [
      "{'como', 'bien', 'tu', 'Hola'}\n"
     ]
    }
   ],
   "source": [
    "#8\n",
    "sentence=input(\"Ingrese una frase\")\n",
    "palabras=[]\n",
    "espacios=[]\n",
    "for i in range(len(sentence)):\n",
    "    if(sentence[i]==\" \"):\n",
    "        espacios.append(i)\n",
    "\n",
    "primera_palabra=True\n",
    "contador=0\n",
    "for i in range(len(espacios)):\n",
    "    if(primera_palabra==True):\n",
    "        palabras.append(sentence[:espacios[i]].replace(\" \",\"\")) \n",
    "        primera_palabra=False\n",
    "\n",
    "    else:\n",
    "        if(i==(len(espacios)-1)):\n",
    "            palabras.append(sentence[espacios[i-1]:espacios[i]].replace(\" \",\"\"))\n",
    "            palabras.append(sentence[espacios[i]:].replace(\" \",\"\"))\n",
    "        else:\n",
    "            palabras.append(sentence[espacios[i-1]:espacios[i]].replace(\" \",\"\"))\n",
    "set_palabras=set(l for l in palabras if len(l)%2==0)\n",
    "print(set_palabras)"
   ]
  },
  {
   "cell_type": "code",
   "execution_count": 88,
   "metadata": {},
   "outputs": [
    {
     "name": "stdout",
     "output_type": "stream",
     "text": [
      "{'bien'}\n"
     ]
    }
   ],
   "source": [
    "#9\n",
    "sentence=input(\"Ingrese una frase\")\n",
    "letter=input(\"Ingrese la letra\")\n",
    "palabras=[]\n",
    "espacios=[]\n",
    "for i in range(len(sentence)):\n",
    "    if(sentence[i]==\" \"):\n",
    "        espacios.append(i)\n",
    "\n",
    "primera_palabra=True\n",
    "contador=0\n",
    "for i in range(len(espacios)):\n",
    "    if(primera_palabra==True):\n",
    "        palabras.append(sentence[:espacios[i]].replace(\" \",\"\")) \n",
    "        primera_palabra=False\n",
    "\n",
    "    else:\n",
    "        if(i==(len(espacios)-1)):\n",
    "            palabras.append(sentence[espacios[i-1]:espacios[i]].replace(\" \",\"\"))\n",
    "            palabras.append(sentence[espacios[i]:].replace(\" \",\"\"))\n",
    "        else:\n",
    "            palabras.append(sentence[espacios[i-1]:espacios[i]].replace(\" \",\"\"))\n",
    "set_palabras=set(l for l in palabras if l.endswith(letter))\n",
    "print(set_palabras)"
   ]
  },
  {
   "cell_type": "code",
   "execution_count": 95,
   "metadata": {},
   "outputs": [
    {
     "name": "stdout",
     "output_type": "stream",
     "text": [
      "['anilina']\n"
     ]
    }
   ],
   "source": [
    "#10\n",
    "sentence=input(\"Ingrese una frase\")\n",
    "palabras=[]\n",
    "espacios=[]\n",
    "palindromos=[]\n",
    "for i in range(len(sentence)):\n",
    "    if(sentence[i]==\" \"):\n",
    "        espacios.append(i)\n",
    "\n",
    "primera_palabra=True\n",
    "contador=0\n",
    "for i in range(len(espacios)):\n",
    "    if(primera_palabra==True):\n",
    "        palabras.append(sentence[:espacios[i]].replace(\" \",\"\")) \n",
    "        primera_palabra=False\n",
    "\n",
    "    else:\n",
    "        if(i==(len(espacios)-1)):\n",
    "            palabras.append(sentence[espacios[i-1]:espacios[i]].replace(\" \",\"\"))\n",
    "            palabras.append(sentence[espacios[i]:].replace(\" \",\"\"))\n",
    "        else:\n",
    "            palabras.append(sentence[espacios[i-1]:espacios[i]].replace(\" \",\"\"))\n",
    "for palabra in palabras:\n",
    "    if(palabra[::-1]==palabra):\n",
    "        palindromos.append(palabra)\n",
    "print(palindromos)"
   ]
  }
 ],
 "metadata": {
  "kernelspec": {
   "display_name": "base",
   "language": "python",
   "name": "python3"
  },
  "language_info": {
   "codemirror_mode": {
    "name": "ipython",
    "version": 3
   },
   "file_extension": ".py",
   "mimetype": "text/x-python",
   "name": "python",
   "nbconvert_exporter": "python",
   "pygments_lexer": "ipython3",
   "version": "3.9.7"
  }
 },
 "nbformat": 4,
 "nbformat_minor": 2
}
