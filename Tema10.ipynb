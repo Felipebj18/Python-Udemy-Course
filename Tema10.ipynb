{
 "cells": [
  {
   "cell_type": "code",
   "execution_count": 1,
   "metadata": {},
   "outputs": [],
   "source": [
    "def euclidean_division(x,y):\n",
    "    q=x//y\n",
    "    r=x%y\n",
    "    return q,r"
   ]
  },
  {
   "cell_type": "code",
   "execution_count": 2,
   "metadata": {},
   "outputs": [
    {
     "data": {
      "text/plain": [
       "(5, 6)"
      ]
     },
     "execution_count": 2,
     "metadata": {},
     "output_type": "execute_result"
    }
   ],
   "source": [
    "euclidean_division(41,7)"
   ]
  },
  {
   "cell_type": "code",
   "execution_count": 3,
   "metadata": {},
   "outputs": [],
   "source": [
    "q,r=euclidean_division(41,7)"
   ]
  },
  {
   "cell_type": "code",
   "execution_count": 8,
   "metadata": {},
   "outputs": [
    {
     "name": "stdout",
     "output_type": "stream",
     "text": [
      "5\n"
     ]
    }
   ],
   "source": [
    "def count_letter(s,letter):\n",
    "    s=s.lower()\n",
    "    count=s.count(letter)\n",
    "    return count\n",
    "\n",
    "s=input(\"Introduce una frase\")\n",
    "letter=input(\"Introduce una letra\")\n",
    "\n",
    "print(count_letter(s,letter))"
   ]
  },
  {
   "cell_type": "code",
   "execution_count": 12,
   "metadata": {},
   "outputs": [],
   "source": [
    "#Número de parámetros arbitrario\n",
    "#Utilizamos *\n",
    "def mean_numbers(*numbers):\n",
    "    sum=0\n",
    "    for n in numbers:\n",
    "        sum+=n\n",
    "    mean=sum/len(numbers)\n",
    "    return mean"
   ]
  },
  {
   "cell_type": "code",
   "execution_count": 13,
   "metadata": {},
   "outputs": [
    {
     "name": "stdout",
     "output_type": "stream",
     "text": [
      "5.2\n"
     ]
    }
   ],
   "source": [
    "print(mean_numbers(4,3,5,6,8))"
   ]
  },
  {
   "cell_type": "code",
   "execution_count": 18,
   "metadata": {},
   "outputs": [],
   "source": [
    "def sumar (x,y=0):\n",
    "    return x+y\n",
    "def restar (x,y=0):\n",
    "    return x-y\n",
    "def multiplicar(x,y=1):\n",
    "    return x*y\n",
    "def dividir(x,y=1):\n",
    "    return x*y"
   ]
  },
  {
   "cell_type": "code",
   "execution_count": 19,
   "metadata": {},
   "outputs": [],
   "source": [
    "import math\n",
    "def choose(n, k):\n",
    "\n",
    "  if (n >= k and k >= 0):\n",
    "    return math.factorial(n) / (math.factorial(k) * math.factorial(n - k))\n",
    "  else:\n",
    "    return \"No se puede calcular el número factorial indicado\""
   ]
  },
  {
   "cell_type": "code",
   "execution_count": 24,
   "metadata": {},
   "outputs": [
    {
     "name": "stdout",
     "output_type": "stream",
     "text": [
      "1\n",
      "1.0 1.0 \n",
      "1.0 2.0 1.0 \n",
      "1.0 3.0 3.0 1.0 \n",
      "1.0 4.0 6.0 4.0 1.0 \n",
      "1.0 5.0 10.0 10.0 5.0 1.0 \n",
      "1.0 6.0 15.0 20.0 15.0 6.0 1.0 \n",
      "1.0 7.0 21.0 35.0 35.0 21.0 7.0 1.0 \n",
      "1.0 8.0 28.0 56.0 70.0 56.0 28.0 8.0 1.0 \n",
      "1.0 9.0 36.0 84.0 126.0 126.0 84.0 36.0 9.0 1.0 \n",
      "1.0 10.0 45.0 120.0 210.0 252.0 210.0 120.0 45.0 10.0 1.0 \n",
      "1.0 11.0 55.0 165.0 330.0 462.0 462.0 330.0 165.0 55.0 11.0 1.0 \n",
      "1.0 12.0 66.0 220.0 495.0 792.0 924.0 792.0 495.0 220.0 66.0 12.0 1.0 \n",
      "1.0 13.0 78.0 286.0 715.0 1287.0 1716.0 1716.0 1287.0 715.0 286.0 78.0 13.0 1.0 \n",
      "1.0 14.0 91.0 364.0 1001.0 2002.0 3003.0 3432.0 3003.0 2002.0 1001.0 364.0 91.0 14.0 1.0 \n",
      "1.0 15.0 105.0 455.0 1365.0 3003.0 5005.0 6435.0 6435.0 5005.0 3003.0 1365.0 455.0 105.0 15.0 1.0 \n",
      "1.0 16.0 120.0 560.0 1820.0 4368.0 8008.0 11440.0 12870.0 11440.0 8008.0 4368.0 1820.0 560.0 120.0 16.0 1.0 \n",
      "1.0 17.0 136.0 680.0 2380.0 6188.0 12376.0 19448.0 24310.0 24310.0 19448.0 12376.0 6188.0 2380.0 680.0 136.0 17.0 1.0 \n",
      "1.0 18.0 153.0 816.0 3060.0 8568.0 18564.0 31824.0 43758.0 48620.0 43758.0 31824.0 18564.0 8568.0 3060.0 816.0 153.0 18.0 1.0 \n",
      "1.0 19.0 171.0 969.0 3876.0 11628.0 27132.0 50388.0 75582.0 92378.0 92378.0 75582.0 50388.0 27132.0 11628.0 3876.0 969.0 171.0 19.0 1.0 \n",
      "1.0 20.0 190.0 1140.0 4845.0 15504.0 38760.0 77520.0 125970.0 167960.0 184756.0 167960.0 125970.0 77520.0 38760.0 15504.0 4845.0 1140.0 190.0 20.0 1.0 \n"
     ]
    }
   ],
   "source": [
    "def pascal_triangle(n=1):\n",
    "    print(1)\n",
    "    for i in range(1,n+1):\n",
    "        for k in range(i+1):\n",
    "            print(choose(i,k),end=\" \")\n",
    "        print(\"\")\n",
    "        \n",
    "pascal_triangle(20)\n",
    "            "
   ]
  },
  {
   "cell_type": "code",
   "execution_count": 29,
   "metadata": {},
   "outputs": [],
   "source": [
    "def euclidean_division(x,y):\n",
    "    \"\"\"\n",
    "    Calcula el cociente, el resto y la división entera entre x y y\n",
    "\n",
    "    Args:\n",
    "        x (int): dividendo\n",
    "        y (int): divisor\n",
    "\n",
    "    Returns:\n",
    "        (q,r): contiene el valor (cociente,resto)\n",
    "    \"\"\"\n",
    "    q=x//y\n",
    "    r=x%y\n",
    "    return q,r\n",
    "    "
   ]
  },
  {
   "cell_type": "code",
   "execution_count": 31,
   "metadata": {},
   "outputs": [
    {
     "name": "stdout",
     "output_type": "stream",
     "text": [
      "\n",
      "    Calcula el cociente, el resto y la división entera entre x y y\n",
      "\n",
      "    Args:\n",
      "        x (int): dividendo\n",
      "        y (int): divisor\n",
      "\n",
      "    Returns:\n",
      "        (q,r): contiene el valor (cociente,resto)\n",
      "    \n"
     ]
    }
   ],
   "source": [
    "print(euclidean_division.__doc__)"
   ]
  },
  {
   "cell_type": "code",
   "execution_count": null,
   "metadata": {},
   "outputs": [],
   "source": [
    "def euclidean_division(x, y):\n",
    "  ints = (x == int(x)) and (y == int(y))#compruebo que ambas variables ingresados sean enteros\n",
    "  \n",
    "  if not ints:#Si los números no son enteros\n",
    "    x = int(x)\n",
    "    y = int(y)\n",
    "    print(\"Se tomarán como parámetros la parte entera de los valores introducidos.\")\n",
    "  \n",
    "  if abs(x) >= abs(y):\n",
    "    q = x // y\n",
    "    r = x % y\n",
    "    print(\"Se ha realizado la división {} entre {} y se ha obtenido como cociente q = {} y como resto, r = {}\".format(x, y, q, r))\n",
    "\n",
    "  else:\n",
    "    q = y // x\n",
    "    r = y % x\n",
    "    print(\"Se ha realizado la división {} entre {} y se ha obtenido como cociente q = {} y como resto, r = {}\".format(y, x, q, r))\n",
    "\n",
    "\n",
    "  return q, r"
   ]
  },
  {
   "cell_type": "code",
   "execution_count": 32,
   "metadata": {},
   "outputs": [],
   "source": [
    "def sign(num):\n",
    "    \"\"\"_summary_\n",
    "\n",
    "    Args:\n",
    "        num (int): number\n",
    "    Returns:\n",
    "    number and his sign\n",
    "    \"\"\"\n",
    "    sign=\"\"\n",
    "    if(num>0):\n",
    "        sign=\"postitivo\"\n",
    "    elif(num<0):\n",
    "        sign=\"negativo\"\n",
    "    else:\n",
    "        sign=\"Cero\"\n",
    "    return(num,sign)"
   ]
  },
  {
   "cell_type": "code",
   "execution_count": 41,
   "metadata": {},
   "outputs": [],
   "source": [
    "def multiply(num):\n",
    "    t=[]\n",
    "    print(f\"La tabla de multiplicar del {num}\")\n",
    "    for i in range(1,11):\n",
    "        t.append((num,num*i))\n",
    "        print(f\"{num}x{i}={num*i}\")\n",
    "    return t"
   ]
  },
  {
   "cell_type": "code",
   "execution_count": 61,
   "metadata": {},
   "outputs": [],
   "source": [
    "def contains_letter(s,letter):\n",
    "    if(s.endswith(\".\")):\n",
    "        l=\"b\"\n",
    "        contador=0\n",
    "        while(l!=letter):\n",
    "            if(contador<len(s)):\n",
    "                l=s[contador]\n",
    "                contador+=1\n",
    "                if(l==letter):\n",
    "                    return(f\"La palabra contiene la letra {letter}\")\n",
    "                    \n",
    "            else:\n",
    "                return(f\"No se ha podido encontrar la letra {letter}\")\n",
    "                \n",
    "    else:\n",
    "        return (\"La frase ingresada no finaliza en punto\")"
   ]
  },
  {
   "cell_type": "code",
   "execution_count": 64,
   "metadata": {},
   "outputs": [
    {
     "data": {
      "text/plain": [
       "'La palabra contiene la letra t'"
      ]
     },
     "execution_count": 64,
     "metadata": {},
     "output_type": "execute_result"
    }
   ],
   "source": [
    "contains_letter(\"El elefante es gigante.\",\"t\")"
   ]
  },
  {
   "cell_type": "code",
   "execution_count": 65,
   "metadata": {},
   "outputs": [],
   "source": [
    "def powers(x,n):\n",
    "    if x**n>1000000:#This validation hels us to restrict the recursive function to stop\n",
    "        return x**n\n",
    "    print(x**n)\n",
    "    powers(x,n+1)"
   ]
  },
  {
   "cell_type": "code",
   "execution_count": 69,
   "metadata": {},
   "outputs": [],
   "source": [
    "def countdown(n):\n",
    "    \"\"\"Cuenta atrás recursiva\n",
    "\n",
    "    Args:\n",
    "        n: número entero positivo\n",
    "    Returns:\n",
    "    0 cuando la cuenta atrás ha finalizado\n",
    "    \"\"\"\n",
    "    if(n==0):\n",
    "        return 0\n",
    "    print(n)\n",
    "    return countdown(n-1)"
   ]
  },
  {
   "cell_type": "code",
   "execution_count": 72,
   "metadata": {},
   "outputs": [],
   "source": [
    "def factorial(n):\n",
    "    \"\"\"\n",
    "    Calcula el factorial de n\n",
    "\n",
    "    Args:\n",
    "        n : número entero positivo\n",
    "    Returns:\n",
    "        factorial de n\n",
    "    \"\"\"\n",
    "    if(n==0):\n",
    "        return 1\n",
    "    return n*factorial(n-1)"
   ]
  },
  {
   "cell_type": "code",
   "execution_count": 80,
   "metadata": {},
   "outputs": [],
   "source": [
    "#Fibonacci\n",
    "def fibonacci(n):\n",
    "    if(n==0 or n==1):\n",
    "        return 1\n",
    "    return fibonacci(n-1) + fibonacci(n-2)"
   ]
  },
  {
   "cell_type": "code",
   "execution_count": 83,
   "metadata": {},
   "outputs": [],
   "source": [
    "#Ax + B = 0\n",
    "def equation(A,B):\n",
    "    \"\"\"\n",
    "    Resuelve ecuaciones de primer grado de la forma Ax + B = 0\n",
    "\n",
    "    Args:\n",
    "        A : número real (coeficiente de la x)\n",
    "        B : número real (coeficiente de la y)\n",
    "    Returns:\n",
    "        x: solución de la ecuación de primer grado\n",
    "    \"\"\"\n",
    "    if A!=0:\n",
    "        x=-B/A\n",
    "        return x\n",
    "    else:\n",
    "        print(\"no has introducido una ecuación de primer grado\")"
   ]
  },
  {
   "cell_type": "code",
   "execution_count": 87,
   "metadata": {},
   "outputs": [],
   "source": [
    "def helper_print(x,y,sign):\n",
    "    print(f\"El resultado de sumar {x} más {y} es {sign}\")"
   ]
  },
  {
   "cell_type": "code",
   "execution_count": 88,
   "metadata": {},
   "outputs": [],
   "source": [
    "def sign_sum(x,y):\n",
    "    if x + y > 0:\n",
    "        sign = \"positivo\"\n",
    "    elif  x + y < 0:\n",
    "        sign = \"negativo\"\n",
    "    else:\n",
    "        sign = \"cero\"\n",
    "    helper_print(x,y,sign)"
   ]
  },
  {
   "cell_type": "code",
   "execution_count": 95,
   "metadata": {},
   "outputs": [],
   "source": [
    "def calculator(operation,x,y):\n",
    "    \"\"\"\n",
    "    Resuelve la operación aritmética correspondiente para x y y\n",
    "\n",
    "    Args:\n",
    "        operation (string): indica la operación aritmética a realizar (sum, substract,product,division)\n",
    "        x (float): numero real\n",
    "        y (float): numero real\n",
    "    Returns:\n",
    "        result: Solución de la operación indicada para x y y\n",
    "    \"\"\"\n",
    "    operation=operation.lower()\n",
    "    if operation == \"sum\":\n",
    "        result = x + y\n",
    "    elif operation == \"substract\":\n",
    "        result = x - y\n",
    "    elif operation == \"product\":\n",
    "        result = x*y\n",
    "    elif operation == \"division\":\n",
    "        result = x/y\n",
    "    else:\n",
    "        print(\"Valor inválido\")\n",
    "        result = \"NULL\"\n",
    "    if result != \"NULL\":\n",
    "        helper(operation,x,y)\n",
    "        return result\n",
    "def helper(operation,x,y):\n",
    "    \"\"\"\n",
    "    Indica la operación realizada e imprime el resultado\n",
    "\n",
    "    Args:\n",
    "        operation (string): indica la operación aritmética a realizar (sum, substract,product,division)\n",
    "        x (float): numero real\n",
    "        y (float): numero real\n",
    "    \"\"\"\n",
    "    if operation == \"sum\":\n",
    "        sign = \"+\"\n",
    "    elif operation == \"substract\":\n",
    "        sign = \"-\"\n",
    "    elif operation == \"product\":\n",
    "        sign = \"*\"\n",
    "    elif operation == \"division\":\n",
    "        sign = \":\"\n",
    "    print(f\"Se ha realizado la operación {x} {sign} {y}\")"
   ]
  },
  {
   "cell_type": "code",
   "execution_count": 96,
   "metadata": {},
   "outputs": [
    {
     "name": "stdout",
     "output_type": "stream",
     "text": [
      "Se ha realizado la operación 5 + 2\n",
      "7\n",
      "Se ha realizado la operación 5 - 2\n",
      "3\n",
      "Se ha realizado la operación 5 * 2\n",
      "10\n",
      "Se ha realizado la operación 5 : 2\n",
      "2.5\n",
      "Valor inválido\n",
      "None\n"
     ]
    }
   ],
   "source": [
    "print(calculator(\"sum\",5,2))\n",
    "print(calculator(\"substract\",5,2))\n",
    "print(calculator(\"Product\",5,2))\n",
    "print(calculator(\"division\",5,2))\n",
    "print(calculator(\"module\",5,2))"
   ]
  },
  {
   "cell_type": "code",
   "execution_count": 101,
   "metadata": {},
   "outputs": [],
   "source": [
    "#1\n",
    "def search_divisors(number):\n",
    "    \"\"\"\n",
    "    Esta función calcula los divisores de un número entero\n",
    "\n",
    "    Args:\n",
    "        number (int): número entero positivo\n",
    "    Returns:\n",
    "        divisors: lista con todos los divisores del número\n",
    "    \"\"\"\n",
    "    divisors=[]\n",
    "    for i in range(1,number):\n",
    "        if number%i==0:\n",
    "            divisors.append(i)\n",
    "    return(divisors)"
   ]
  },
  {
   "cell_type": "code",
   "execution_count": 102,
   "metadata": {},
   "outputs": [],
   "source": [
    "#2\n",
    "def bigger (a,b):\n",
    "    \"\"\"\n",
    "    Calcula el mayor de los dos número\n",
    "\n",
    "    Args:\n",
    "        a (int): Primer númer\n",
    "        b (int): Segundo númer\n",
    "\n",
    "    Returns:\n",
    "        a o b: el mayor de los números\n",
    "    \"\"\"\n",
    "    if (a>b):\n",
    "        return a\n",
    "    else:\n",
    "        return(b)"
   ]
  },
  {
   "cell_type": "code",
   "execution_count": 112,
   "metadata": {},
   "outputs": [],
   "source": [
    "#3\n",
    "def abs_value(x):\n",
    "    \"\"\"\n",
    "    Calculates absolute value for x\n",
    "    Args:\n",
    "        x (int): integer\n",
    "\n",
    "    Returns:\n",
    "        x or -x: according to the number sign\n",
    "    \"\"\"\n",
    "    if x<0:\n",
    "        return -x\n",
    "    else:\n",
    "        return x"
   ]
  },
  {
   "cell_type": "code",
   "execution_count": 113,
   "metadata": {},
   "outputs": [],
   "source": [
    "#4\n",
    "def is_vowel(c):\n",
    "    \"\"\"\n",
    "    Determina si un caracter es vocal\n",
    "\n",
    "    Args:\n",
    "        c (str): el caracter ingresado\n",
    "\n",
    "    Returns:\n",
    "        True: si el caracter es una vocal\n",
    "        False: si el caracter no es vocal\n",
    "    \"\"\"\n",
    "    vowels=[\"a\",\"e\",\"i\",\"o\",\"u\"]\n",
    "    if c.lower() in vowels:\n",
    "        return True\n",
    "    else:\n",
    "        return False"
   ]
  },
  {
   "cell_type": "code",
   "execution_count": 121,
   "metadata": {},
   "outputs": [],
   "source": [
    "#5\n",
    "def mcd(a,b):\n",
    "    \"\"\"\n",
    "    Calcula el máximo común divisor de dos números \n",
    "\n",
    "    Args:\n",
    "        a (int): Primer número\n",
    "        b (int): segundo número\n",
    "\n",
    "    Returns:\n",
    "        max(common divisors): el número máximo de los divisores comunes\n",
    "    \n",
    "    \"\"\"\n",
    "    div_a=[i for i in range(1,a+1) if a%i==0]\n",
    "    div_b=[i for i in range(1,b+1) if b%i==0]\n",
    "    common_divisors=[]\n",
    "    for i in range(len(div_a)):\n",
    "        for j in range(len(div_b)):\n",
    "            if div_a[i]==div_b[j]:\n",
    "                common_divisors.append(div_a[i])\n",
    "    return max(common_divisors)\n",
    "    \n"
   ]
  },
  {
   "cell_type": "code",
   "execution_count": 133,
   "metadata": {},
   "outputs": [],
   "source": [
    "#6\n",
    "def mcm(a,b):\n",
    "    \"\"\"\n",
    "    Calcula el mínimo común múltiplo a partir del máximo común divisor\n",
    "    de la función mcd\n",
    "\n",
    "    Args:\n",
    "        a (int): Primer número\n",
    "        b (int): segundo número\n",
    "\n",
    "    Returns:\n",
    "        mcm: el mínimo común múltiplo\n",
    "    \"\"\"\n",
    "    mcm=(a*b)/(mcd(a,b)) \n",
    "    return mcm   "
   ]
  },
  {
   "cell_type": "code",
   "execution_count": 141,
   "metadata": {},
   "outputs": [],
   "source": [
    "#7\n",
    "def es_palindroma(word):\n",
    "    if word.lower() == word[::-1].lower():\n",
    "        return True\n",
    "    else:\n",
    "        return False"
   ]
  },
  {
   "cell_type": "code",
   "execution_count": 146,
   "metadata": {},
   "outputs": [],
   "source": [
    "#8\n",
    "def hex_to_rgb(hex):\n",
    "  return tuple(int(hex[i:i+2], 16) for i in (0, 2, 4))"
   ]
  },
  {
   "cell_type": "code",
   "execution_count": 147,
   "metadata": {},
   "outputs": [],
   "source": [
    "#9\n",
    "\n",
    "def len_words(words):\n",
    "    pares=0\n",
    "    impares=0\n",
    "    for word in words:\n",
    "        if len(word)%2==0:\n",
    "            pares+=1\n",
    "        else:\n",
    "            impares+=1\n",
    "    dicc={\"pares\":pares,\"impares\":impares}\n",
    "    return dicc\n",
    "    \n",
    "\n"
   ]
  },
  {
   "cell_type": "code",
   "execution_count": 149,
   "metadata": {},
   "outputs": [],
   "source": [
    "#10\n",
    "def character_count(s):\n",
    "    counts={}\n",
    "    for c in set(s):\n",
    "        counts[c]=s.count(c)\n",
    "    return counts\n",
    "            "
   ]
  },
  {
   "cell_type": "code",
   "execution_count": 150,
   "metadata": {},
   "outputs": [
    {
     "data": {
      "text/plain": [
       "{' ': 7, 'a': 6, 'm': 9, 's': 2, 'e': 3, 'i': 3}"
      ]
     },
     "execution_count": 150,
     "metadata": {},
     "output_type": "execute_result"
    }
   ],
   "source": [
    "character_count(\"mi mama me mima esa es mi mama\")"
   ]
  },
  {
   "cell_type": "code",
   "execution_count": null,
   "metadata": {},
   "outputs": [],
   "source": []
  }
 ],
 "metadata": {
  "kernelspec": {
   "display_name": "base",
   "language": "python",
   "name": "python3"
  },
  "language_info": {
   "codemirror_mode": {
    "name": "ipython",
    "version": 3
   },
   "file_extension": ".py",
   "mimetype": "text/x-python",
   "name": "python",
   "nbconvert_exporter": "python",
   "pygments_lexer": "ipython3",
   "version": "3.9.7"
  }
 },
 "nbformat": 4,
 "nbformat_minor": 2
}
