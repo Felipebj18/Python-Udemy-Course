{
 "cells": [
  {
   "cell_type": "code",
   "execution_count": 1,
   "metadata": {},
   "outputs": [],
   "source": [
    "def euclidean_division(x,y):\n",
    "    q=x//y\n",
    "    r=x%y\n",
    "    return q,r"
   ]
  },
  {
   "cell_type": "code",
   "execution_count": 2,
   "metadata": {},
   "outputs": [
    {
     "data": {
      "text/plain": [
       "(5, 6)"
      ]
     },
     "execution_count": 2,
     "metadata": {},
     "output_type": "execute_result"
    }
   ],
   "source": [
    "euclidean_division(41,7)"
   ]
  },
  {
   "cell_type": "code",
   "execution_count": 3,
   "metadata": {},
   "outputs": [],
   "source": [
    "q,r=euclidean_division(41,7)"
   ]
  },
  {
   "cell_type": "code",
   "execution_count": 8,
   "metadata": {},
   "outputs": [
    {
     "name": "stdout",
     "output_type": "stream",
     "text": [
      "5\n"
     ]
    }
   ],
   "source": [
    "def count_letter(s,letter):\n",
    "    s=s.lower()\n",
    "    count=s.count(letter)\n",
    "    return count\n",
    "\n",
    "s=input(\"Introduce una frase\")\n",
    "letter=input(\"Introduce una letra\")\n",
    "\n",
    "print(count_letter(s,letter))"
   ]
  },
  {
   "cell_type": "code",
   "execution_count": 12,
   "metadata": {},
   "outputs": [],
   "source": [
    "#Número de parámetros arbitrario\n",
    "#Utilizamos *\n",
    "def mean_numbers(*numbers):\n",
    "    sum=0\n",
    "    for n in numbers:\n",
    "        sum+=n\n",
    "    mean=sum/len(numbers)\n",
    "    return mean"
   ]
  },
  {
   "cell_type": "code",
   "execution_count": 13,
   "metadata": {},
   "outputs": [
    {
     "name": "stdout",
     "output_type": "stream",
     "text": [
      "5.2\n"
     ]
    }
   ],
   "source": [
    "print(mean_numbers(4,3,5,6,8))"
   ]
  },
  {
   "cell_type": "code",
   "execution_count": 18,
   "metadata": {},
   "outputs": [],
   "source": [
    "def sumar (x,y=0):\n",
    "    return x+y\n",
    "def restar (x,y=0):\n",
    "    return x-y\n",
    "def multiplicar(x,y=1):\n",
    "    return x*y\n",
    "def dividir(x,y=1):\n",
    "    return x*y"
   ]
  },
  {
   "cell_type": "code",
   "execution_count": 19,
   "metadata": {},
   "outputs": [],
   "source": [
    "import math\n",
    "def choose(n, k):\n",
    "\n",
    "  if (n >= k and k >= 0):\n",
    "    return math.factorial(n) / (math.factorial(k) * math.factorial(n - k))\n",
    "  else:\n",
    "    return \"No se puede calcular el número factorial indicado\""
   ]
  },
  {
   "cell_type": "code",
   "execution_count": 24,
   "metadata": {},
   "outputs": [
    {
     "name": "stdout",
     "output_type": "stream",
     "text": [
      "1\n",
      "1.0 1.0 \n",
      "1.0 2.0 1.0 \n",
      "1.0 3.0 3.0 1.0 \n",
      "1.0 4.0 6.0 4.0 1.0 \n",
      "1.0 5.0 10.0 10.0 5.0 1.0 \n",
      "1.0 6.0 15.0 20.0 15.0 6.0 1.0 \n",
      "1.0 7.0 21.0 35.0 35.0 21.0 7.0 1.0 \n",
      "1.0 8.0 28.0 56.0 70.0 56.0 28.0 8.0 1.0 \n",
      "1.0 9.0 36.0 84.0 126.0 126.0 84.0 36.0 9.0 1.0 \n",
      "1.0 10.0 45.0 120.0 210.0 252.0 210.0 120.0 45.0 10.0 1.0 \n",
      "1.0 11.0 55.0 165.0 330.0 462.0 462.0 330.0 165.0 55.0 11.0 1.0 \n",
      "1.0 12.0 66.0 220.0 495.0 792.0 924.0 792.0 495.0 220.0 66.0 12.0 1.0 \n",
      "1.0 13.0 78.0 286.0 715.0 1287.0 1716.0 1716.0 1287.0 715.0 286.0 78.0 13.0 1.0 \n",
      "1.0 14.0 91.0 364.0 1001.0 2002.0 3003.0 3432.0 3003.0 2002.0 1001.0 364.0 91.0 14.0 1.0 \n",
      "1.0 15.0 105.0 455.0 1365.0 3003.0 5005.0 6435.0 6435.0 5005.0 3003.0 1365.0 455.0 105.0 15.0 1.0 \n",
      "1.0 16.0 120.0 560.0 1820.0 4368.0 8008.0 11440.0 12870.0 11440.0 8008.0 4368.0 1820.0 560.0 120.0 16.0 1.0 \n",
      "1.0 17.0 136.0 680.0 2380.0 6188.0 12376.0 19448.0 24310.0 24310.0 19448.0 12376.0 6188.0 2380.0 680.0 136.0 17.0 1.0 \n",
      "1.0 18.0 153.0 816.0 3060.0 8568.0 18564.0 31824.0 43758.0 48620.0 43758.0 31824.0 18564.0 8568.0 3060.0 816.0 153.0 18.0 1.0 \n",
      "1.0 19.0 171.0 969.0 3876.0 11628.0 27132.0 50388.0 75582.0 92378.0 92378.0 75582.0 50388.0 27132.0 11628.0 3876.0 969.0 171.0 19.0 1.0 \n",
      "1.0 20.0 190.0 1140.0 4845.0 15504.0 38760.0 77520.0 125970.0 167960.0 184756.0 167960.0 125970.0 77520.0 38760.0 15504.0 4845.0 1140.0 190.0 20.0 1.0 \n"
     ]
    }
   ],
   "source": [
    "def pascal_triangle(n=1):\n",
    "    print(1)\n",
    "    for i in range(1,n+1):\n",
    "        for k in range(i+1):\n",
    "            print(choose(i,k),end=\" \")\n",
    "        print(\"\")\n",
    "        \n",
    "pascal_triangle(20)\n",
    "            "
   ]
  },
  {
   "cell_type": "code",
   "execution_count": 29,
   "metadata": {},
   "outputs": [],
   "source": [
    "def euclidean_division(x,y):\n",
    "    \"\"\"\n",
    "    Calcula el cociente, el resto y la división entera entre x y y\n",
    "\n",
    "    Args:\n",
    "        x (int): dividendo\n",
    "        y (int): divisor\n",
    "\n",
    "    Returns:\n",
    "        (q,r): contiene el valor (cociente,resto)\n",
    "    \"\"\"\n",
    "    q=x//y\n",
    "    r=x%y\n",
    "    return q,r\n",
    "    "
   ]
  },
  {
   "cell_type": "code",
   "execution_count": 31,
   "metadata": {},
   "outputs": [
    {
     "name": "stdout",
     "output_type": "stream",
     "text": [
      "\n",
      "    Calcula el cociente, el resto y la división entera entre x y y\n",
      "\n",
      "    Args:\n",
      "        x (int): dividendo\n",
      "        y (int): divisor\n",
      "\n",
      "    Returns:\n",
      "        (q,r): contiene el valor (cociente,resto)\n",
      "    \n"
     ]
    }
   ],
   "source": [
    "print(euclidean_division.__doc__)"
   ]
  },
  {
   "cell_type": "code",
   "execution_count": null,
   "metadata": {},
   "outputs": [],
   "source": [
    "def euclidean_division(x, y):\n",
    "  ints = (x == int(x)) and (y == int(y))\n",
    "  \n",
    "  if not ints:\n",
    "    x = int(x)\n",
    "    y = int(y)\n",
    "    print(\"Se tomarán como parámetros la parte entera de los valores introducidos.\")\n",
    "  \n",
    "  if abs(x) >= abs(y):\n",
    "    q = x // y\n",
    "    r = x % y\n",
    "    print(\"Se ha realizado la división {} entre {} y se ha obtenido como cociente q = {} y como resto, r = {}\".format(x, y, q, r))\n",
    "\n",
    "  else:\n",
    "    q = y // x\n",
    "    r = y % x\n",
    "    print(\"Se ha realizado la división {} entre {} y se ha obtenido como cociente q = {} y como resto, r = {}\".format(y, x, q, r))\n",
    "\n",
    "\n",
    "  return q, r"
   ]
  }
 ],
 "metadata": {
  "kernelspec": {
   "display_name": "base",
   "language": "python",
   "name": "python3"
  },
  "language_info": {
   "codemirror_mode": {
    "name": "ipython",
    "version": 3
   },
   "file_extension": ".py",
   "mimetype": "text/x-python",
   "name": "python",
   "nbconvert_exporter": "python",
   "pygments_lexer": "ipython3",
   "version": "3.9.7"
  }
 },
 "nbformat": 4,
 "nbformat_minor": 2
}
