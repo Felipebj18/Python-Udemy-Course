{
 "cells": [
  {
   "cell_type": "code",
   "execution_count": 3,
   "metadata": {},
   "outputs": [
    {
     "name": "stdout",
     "output_type": "stream",
     "text": [
      "['k', 'f', 'j']\n"
     ]
    }
   ],
   "source": [
    "#1\n",
    "palabra = input(\"Ingrese una palabra\")\n",
    "l=list(palabra)\n",
    "l.reverse()\n",
    "print(l)"
   ]
  },
  {
   "cell_type": "code",
   "execution_count": 7,
   "metadata": {},
   "outputs": [
    {
     "name": "stdout",
     "output_type": "stream",
     "text": [
      "Las dos cadenas deben tener la misma longitud\n"
     ]
    }
   ],
   "source": [
    "#2\n",
    "s1=input(\"Ingrese una cadena\")\n",
    "s2=input(\"Ingrese una cadena\")\n",
    "\n",
    "l = []\n",
    "if(len(s1)==len(s2)):\n",
    "    for i in range(len(s1)):\n",
    "        l.append(s1[i])\n",
    "        l.append(s2[i])\n",
    "    print(l)\n",
    "else:\n",
    "    print(\"Las dos cadenas deben tener la misma longitud\")"
   ]
  },
  {
   "cell_type": "code",
   "execution_count": 8,
   "metadata": {},
   "outputs": [
    {
     "name": "stdout",
     "output_type": "stream",
     "text": [
      "Las consonantes de la cadena Felipe, son: ['F', 'l', 'p']\n"
     ]
    }
   ],
   "source": [
    "#3\n",
    "s1=input(\"Ingrese una cadena\")\n",
    "consonantes=[]\n",
    "vocales=[\"a\",\"e\",\"i\",\"o\",\"u\"]\n",
    "for i in s1:\n",
    "    if i not in vocales:\n",
    "        consonantes.append(i)\n",
    "print(f\"Las consonantes de la cadena {s1}, son: {consonantes}\")"
   ]
  },
  {
   "cell_type": "code",
   "execution_count": 13,
   "metadata": {},
   "outputs": [
    {
     "name": "stdout",
     "output_type": "stream",
     "text": [
      "La palabra ojotojo es un palídromo\n"
     ]
    }
   ],
   "source": [
    "#4\n",
    "s1=input(\"Ingrese una cadena\")\n",
    "l=list(s1)\n",
    "l.reverse()\n",
    "if l == list(s1):\n",
    "    print(f\"La palabra {s1} es un palídromo\")\n",
    "else:\n",
    "    print(f\"La palabra {s1} no es un palíndromo\")\n",
    "#s1=list(s1)\n",
    "#print(f\"Original:{s1}\\nInvertida:{s1_r}\")"
   ]
  },
  {
   "cell_type": "code",
   "execution_count": 20,
   "metadata": {},
   "outputs": [
    {
     "name": "stdout",
     "output_type": "stream",
     "text": [
      "2.0\n",
      "2.0\n",
      "8.0\n"
     ]
    }
   ],
   "source": [
    "#5\n",
    "import numpy as np\n",
    "A=np.empty((3,3))\n",
    "for i in range(len(A)):\n",
    "    for j in range(len(A)):\n",
    "        A[i,j]=float(input(f\"Ingresa el valor ({i},{j})\"))\n",
    "for columna in A:\n",
    "    print(max(columna))\n",
    "\n"
   ]
  },
  {
   "cell_type": "code",
   "execution_count": 24,
   "metadata": {},
   "outputs": [
    {
     "name": "stdout",
     "output_type": "stream",
     "text": [
      "[[ 0.  1.  2.  3.  4.  5.  6.  7.  8.  9.]\n",
      " [10. 11. 12. 13. 14. 15. 16. 17. 18. 19.]\n",
      " [20. 21. 22. 23. 24. 25. 26. 27. 28. 29.]\n",
      " [30. 31. 32. 33. 34. 35. 36. 37. 38. 39.]\n",
      " [40. 41. 42. 43. 44. 45. 46. 47. 48. 49.]\n",
      " [50. 51. 52. 53. 54. 55. 56. 57. 58. 59.]\n",
      " [60. 61. 62. 63. 64. 65. 66. 67. 68. 69.]\n",
      " [70. 71. 72. 73. 74. 75. 76. 77. 78. 79.]\n",
      " [80. 81. 82. 83. 84. 85. 86. 87. 88. 89.]\n",
      " [90. 91. 92. 93. 94. 95. 96. 97. 98. 99.]]\n"
     ]
    }
   ],
   "source": [
    "#6\n",
    "n = int(input(\"Ingrese las dimensiones de la matriz cuadrada\"))\n",
    "A=np.empty((n,n))\n",
    "contador = 0\n",
    "for i in range(n):\n",
    "    for j in range(n):\n",
    "        A[i,j]=contador\n",
    "        contador+=1\n",
    "print(A)\n",
    "    "
   ]
  },
  {
   "cell_type": "code",
   "execution_count": 42,
   "metadata": {},
   "outputs": [
    {
     "name": "stdout",
     "output_type": "stream",
     "text": [
      "Las columnas suman diferente\n",
      "[[1. 2. 3.]\n",
      " [1. 2. 3.]\n",
      " [1. 2. 3.]]\n"
     ]
    }
   ],
   "source": [
    "#7\n",
    "n = int(input(\"Ingrese n\"))\n",
    "m = int(input(\"Ingrese m\"))\n",
    "A=np.empty((n,m))\n",
    "sumas=[]\n",
    "for i in range(n):\n",
    "    for j in range(m):\n",
    "        A[i,j]=float(input(f\"Ingresa el valor ({i},{j})\"))\n",
    "        \n",
    "for j in range(m):\n",
    "    suma=0\n",
    "    for i in range(n):\n",
    "       suma+=A[i,j]\n",
    "    sumas.append(suma)\n",
    "if(len(np.unique(sumas))==1):\n",
    "    print(\"Todas las columnas suman lo mismo\")\n",
    "else:\n",
    "    print(\"Las columnas suman diferente\")\n",
    "print(A)"
   ]
  },
  {
   "cell_type": "code",
   "execution_count": 47,
   "metadata": {},
   "outputs": [
    {
     "name": "stdout",
     "output_type": "stream",
     "text": [
      "Matriz identidad\n",
      "[[1. 0.]\n",
      " [0. 1.]]\n"
     ]
    }
   ],
   "source": [
    "#8\n",
    "n = int(input(\"Ingrese n\"))\n",
    "m = int(input(\"Ingrese m\"))\n",
    "A=np.empty((n,m))\n",
    "sumas=[]\n",
    "identidad=True\n",
    "if n!=m:\n",
    "     identidad=False\n",
    "for i in range(n):\n",
    "    for j in range(m):\n",
    "        A[i,j]=float(input(f\"Ingresa el valor ({i},{j})\"))\n",
    "        if not(i==j and A[i,j]==1 or i!=j and A[i,j]==0):\n",
    "            identidad=False\n",
    "            \n",
    "if(identidad):\n",
    "    print(f\"Matriz identidad\\n{A}\")\n",
    "else:\n",
    "    print(f\"La matriz ingresada no es identidad\\n{A}\")\n"
   ]
  },
  {
   "cell_type": "code",
   "execution_count": 49,
   "metadata": {},
   "outputs": [
    {
     "name": "stdout",
     "output_type": "stream",
     "text": [
      "A:[[1. 2. 3.]\n",
      " [4. 5. 6.]]\n",
      "A transpuesta:[[1. 4.]\n",
      " [2. 5.]\n",
      " [3. 6.]]\n"
     ]
    }
   ],
   "source": [
    "#9\n",
    "n = int(input(\"Ingrese n\"))\n",
    "m = int(input(\"Ingrese m\"))\n",
    "A=np.empty((n,m))\n",
    "sumas=[]\n",
    "identidad=True\n",
    "B=np.empty((m,n))\n",
    "for i in range(n):\n",
    "    for j in range(m):\n",
    "        A[i,j]=float(input(f\"Ingresa el valor ({i},{j})\"))\n",
    "        B[j,i]=A[i,j]\n",
    "print(f\"A:{A}\\nA transpuesta:{B}\")"
   ]
  },
  {
   "cell_type": "code",
   "execution_count": 51,
   "metadata": {},
   "outputs": [
    {
     "name": "stdout",
     "output_type": "stream",
     "text": [
      "[[1. 0. 0. 0. 0. 0. 0. 0. 0. 0. 0. 0. 0. 0. 0. 0. 0. 0. 0. 0.]\n",
      " [0. 1. 0. 0. 0. 0. 0. 0. 0. 0. 0. 0. 0. 0. 0. 0. 0. 0. 0. 0.]\n",
      " [0. 0. 1. 0. 0. 0. 0. 0. 0. 0. 0. 0. 0. 0. 0. 0. 0. 0. 0. 0.]\n",
      " [0. 0. 0. 1. 0. 0. 0. 0. 0. 0. 0. 0. 0. 0. 0. 0. 0. 0. 0. 0.]\n",
      " [0. 0. 0. 0. 1. 0. 0. 0. 0. 0. 0. 0. 0. 0. 0. 0. 0. 0. 0. 0.]\n",
      " [0. 0. 0. 0. 0. 1. 0. 0. 0. 0. 0. 0. 0. 0. 0. 0. 0. 0. 0. 0.]\n",
      " [0. 0. 0. 0. 0. 0. 1. 0. 0. 0. 0. 0. 0. 0. 0. 0. 0. 0. 0. 0.]\n",
      " [0. 0. 0. 0. 0. 0. 0. 1. 0. 0. 0. 0. 0. 0. 0. 0. 0. 0. 0. 0.]\n",
      " [0. 0. 0. 0. 0. 0. 0. 0. 1. 0. 0. 0. 0. 0. 0. 0. 0. 0. 0. 0.]\n",
      " [0. 0. 0. 0. 0. 0. 0. 0. 0. 1. 0. 0. 0. 0. 0. 0. 0. 0. 0. 0.]\n",
      " [0. 0. 0. 0. 0. 0. 0. 0. 0. 0. 1. 0. 0. 0. 0. 0. 0. 0. 0. 0.]\n",
      " [0. 0. 0. 0. 0. 0. 0. 0. 0. 0. 0. 1. 0. 0. 0. 0. 0. 0. 0. 0.]\n",
      " [0. 0. 0. 0. 0. 0. 0. 0. 0. 0. 0. 0. 1. 0. 0. 0. 0. 0. 0. 0.]\n",
      " [0. 0. 0. 0. 0. 0. 0. 0. 0. 0. 0. 0. 0. 1. 0. 0. 0. 0. 0. 0.]\n",
      " [0. 0. 0. 0. 0. 0. 0. 0. 0. 0. 0. 0. 0. 0. 1. 0. 0. 0. 0. 0.]\n",
      " [0. 0. 0. 0. 0. 0. 0. 0. 0. 0. 0. 0. 0. 0. 0. 1. 0. 0. 0. 0.]\n",
      " [0. 0. 0. 0. 0. 0. 0. 0. 0. 0. 0. 0. 0. 0. 0. 0. 1. 0. 0. 0.]\n",
      " [0. 0. 0. 0. 0. 0. 0. 0. 0. 0. 0. 0. 0. 0. 0. 0. 0. 1. 0. 0.]\n",
      " [0. 0. 0. 0. 0. 0. 0. 0. 0. 0. 0. 0. 0. 0. 0. 0. 0. 0. 1. 0.]\n",
      " [0. 0. 0. 0. 0. 0. 0. 0. 0. 0. 0. 0. 0. 0. 0. 0. 0. 0. 0. 1.]]\n"
     ]
    }
   ],
   "source": [
    "#10\n",
    "n = int(input(\"Ingrese las dimensiones de la matriz identidad\"))\n",
    "A=np.empty((n,n))\n",
    "contador = 0\n",
    "for i in range(n):\n",
    "    for j in range(n):\n",
    "        if(i==j):\n",
    "            A[i,j]=1\n",
    "        elif(i!=j):\n",
    "            A[i,j]=0\n",
    "            \n",
    "print(A)"
   ]
  },
  {
   "cell_type": "code",
   "execution_count": 52,
   "metadata": {},
   "outputs": [
    {
     "name": "stdout",
     "output_type": "stream",
     "text": [
      "0 1 2 3 2 1 0 "
     ]
    }
   ],
   "source": [
    "l = [0, 1, 2, 3, 2, 1, 0]\n",
    "for i in l:\n",
    "    print(i, end = \" \")"
   ]
  }
 ],
 "metadata": {
  "kernelspec": {
   "display_name": "base",
   "language": "python",
   "name": "python3"
  },
  "language_info": {
   "codemirror_mode": {
    "name": "ipython",
    "version": 3
   },
   "file_extension": ".py",
   "mimetype": "text/x-python",
   "name": "python",
   "nbconvert_exporter": "python",
   "pygments_lexer": "ipython3",
   "version": "3.9.7"
  }
 },
 "nbformat": 4,
 "nbformat_minor": 2
}
