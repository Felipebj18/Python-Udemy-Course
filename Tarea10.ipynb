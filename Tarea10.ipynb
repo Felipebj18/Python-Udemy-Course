{
 "cells": [
  {
   "cell_type": "code",
   "execution_count": 1,
   "metadata": {},
   "outputs": [],
   "source": [
    "#1\n",
    "multiply_by_last_and_next=lambda x:(x-1)*x*(x+1)"
   ]
  },
  {
   "cell_type": "code",
   "execution_count": 3,
   "metadata": {},
   "outputs": [],
   "source": [
    "from numpy import random"
   ]
  },
  {
   "cell_type": "code",
   "execution_count": 12,
   "metadata": {},
   "outputs": [
    {
     "name": "stdout",
     "output_type": "stream",
     "text": [
      "[1, 10]\n",
      "False\n"
     ]
    }
   ],
   "source": [
    "#2\n",
    "from functools import reduce\n",
    "nums = list(random.randint(1,11,2))\n",
    "print(nums)\n",
    "print(reduce(lambda x,y:x>y,nums))"
   ]
  },
  {
   "cell_type": "code",
   "execution_count": 15,
   "metadata": {},
   "outputs": [],
   "source": [
    "#3\n",
    "def vowels_consonants(word):\n",
    "    vowels=[\"a\",\"e\",\"i\",\"o\",\"u\"]\n",
    "    v=0\n",
    "    c=0\n",
    "    for ch in word:\n",
    "        if ch in vowels:\n",
    "            v+=1\n",
    "        else:\n",
    "            c+=1\n",
    "    return v>c"
   ]
  },
  {
   "cell_type": "code",
   "execution_count": 54,
   "metadata": {},
   "outputs": [],
   "source": [
    "#4\n",
    "def take_divisors(num):\n",
    "    divisors=0\n",
    "    for i in range(1,num):\n",
    "        if(num%(i)==0):\n",
    "            divisors+=1\n",
    "    return divisors>5\n",
    "    "
   ]
  },
  {
   "cell_type": "code",
   "execution_count": 57,
   "metadata": {},
   "outputs": [
    {
     "name": "stdout",
     "output_type": "stream",
     "text": [
      "[70, 99, 84, 30, 49, 69, 32, 37, 16, 62, 95, 75, 57, 95, 74, 92, 73, 4, 21, 99]\n",
      "[70, 84, 30]\n"
     ]
    }
   ],
   "source": [
    "numbers = list(random.randint(1,100,20))\n",
    "print(numbers)\n",
    "print(list(filter(take_divisors,numbers)))"
   ]
  },
  {
   "cell_type": "code",
   "execution_count": 63,
   "metadata": {},
   "outputs": [
    {
     "data": {
      "text/plain": [
       "'amargada'"
      ]
     },
     "execution_count": 63,
     "metadata": {},
     "output_type": "execute_result"
    }
   ],
   "source": [
    "#5\n",
    "def compare_words(w1,w2):\n",
    "    if len(w1)>len(w2):\n",
    "        return w1\n",
    "    return w2\n",
    "reduce(lambda w1,w2:compare_words(w1,w2),words)"
   ]
  },
  {
   "cell_type": "code",
   "execution_count": 64,
   "metadata": {},
   "outputs": [],
   "source": [
    "words = [\"gato\", \"perroo\", \"casa\", \"jardín\", \"libro\", \"papel\", \"lápiz\", \"mesa\", \"silla\", \"puerta\",\"amargada\"]\n"
   ]
  },
  {
   "cell_type": "code",
   "execution_count": 69,
   "metadata": {},
   "outputs": [
    {
     "data": {
      "text/plain": [
       "[2, 3, 2, 1, 2, 2, 1, 2, 2, 3, 4]"
      ]
     },
     "execution_count": 69,
     "metadata": {},
     "output_type": "execute_result"
    }
   ],
   "source": [
    "#6\n",
    "def vowels(word):\n",
    "    vowels=[\"a\",\"e\",\"i\",\"o\",\"u\"]\n",
    "    v=0\n",
    "    for ch in word:\n",
    "        if ch in vowels:\n",
    "            v+=1\n",
    "\n",
    "    return v\n",
    "list(map(vowels,words))"
   ]
  },
  {
   "cell_type": "code",
   "execution_count": 94,
   "metadata": {},
   "outputs": [
    {
     "data": {
      "text/plain": [
       "[2, 3, 2, 5, 3, 3, 4, 2, 3, 3, 4]"
      ]
     },
     "execution_count": 94,
     "metadata": {},
     "output_type": "execute_result"
    }
   ],
   "source": [
    "#7\n",
    "def consonants(word):\n",
    "    vowels=[\"a\",\"e\",\"i\",\"o\",\"u\"]\n",
    "    c=0\n",
    "    for ch in word:\n",
    "        if ch not in vowels:\n",
    "            c+=1\n",
    "\n",
    "    return c\n",
    "\n",
    "def greater(a,b):\n",
    "    if a>b:\n",
    "        return a\n",
    "    return b\n",
    "reduce(greater,list(map(consonants,words)))\n"
   ]
  },
  {
   "cell_type": "code",
   "execution_count": 98,
   "metadata": {},
   "outputs": [
    {
     "name": "stdout",
     "output_type": "stream",
     "text": [
      "[70, 99, 84, 30, 49, 69, 32, 37, 16, 62, 95, 75, 57, 95, 74, 92, 73, 4, 21, 99]\n"
     ]
    },
    {
     "data": {
      "text/plain": [
       "[69, 98, 83, 29, 48, 68, 31, 36, 15, 61, 94, 74, 56, 94, 73, 91, 72, 3, 20, 98]"
      ]
     },
     "execution_count": 98,
     "metadata": {},
     "output_type": "execute_result"
    }
   ],
   "source": [
    "#8\n",
    "print(numbers)\n",
    "list(map(lambda x:x-1,numbers))\n"
   ]
  },
  {
   "cell_type": "code",
   "execution_count": 105,
   "metadata": {},
   "outputs": [
    {
     "name": "stdout",
     "output_type": "stream",
     "text": [
      "[46, -41, -17, 73, 38, 14, -41, 35, 79, -63, 32, -81, 7, -90, -99, 56, -11, -89, 43, 64]\n",
      "[7, -11, 14, -17, 32, 35, 38, -41, -41, 43, 46, 56, -63, 64, 73, 79, -81, -89, -90, -99]\n"
     ]
    }
   ],
   "source": [
    "#9\n",
    "numeros=list(random.randint(-100,100,20))\n",
    "print(numeros)\n",
    "print(sorted(numeros,key = lambda x:abs(x)))\n"
   ]
  },
  {
   "cell_type": "code",
   "execution_count": 107,
   "metadata": {},
   "outputs": [
    {
     "name": "stdout",
     "output_type": "stream",
     "text": [
      "['gato', 'perroo', 'casa', 'jardín', 'libro', 'papel', 'lápiz', 'mesa', 'silla', 'puerta', 'amargada']\n",
      "['jardín', 'lápiz', 'amargada', 'perroo', 'libro', 'papel', 'silla', 'puerta', 'gato', 'casa', 'mesa']\n"
     ]
    }
   ],
   "source": [
    "#10\n",
    "print(words)\n",
    "print(sorted(words,key=consonants,reverse=True))"
   ]
  },
  {
   "cell_type": "code",
   "execution_count": 109,
   "metadata": {},
   "outputs": [
    {
     "name": "stdout",
     "output_type": "stream",
     "text": [
      "['gato', 'perroo', 'casa', 'jardín', 'libro', 'papel', 'lápiz', 'mesa', 'silla', 'puerta', 'amargada']\n",
      "[2, 3, 2, 5, 3, 3, 4, 2, 3, 3, 4]\n"
     ]
    },
    {
     "data": {
      "text/plain": [
       "5"
      ]
     },
     "execution_count": 109,
     "metadata": {},
     "output_type": "execute_result"
    }
   ],
   "source": []
  }
 ],
 "metadata": {
  "kernelspec": {
   "display_name": "base",
   "language": "python",
   "name": "python3"
  },
  "language_info": {
   "codemirror_mode": {
    "name": "ipython",
    "version": 3
   },
   "file_extension": ".py",
   "mimetype": "text/x-python",
   "name": "python",
   "nbconvert_exporter": "python",
   "pygments_lexer": "ipython3",
   "version": "3.9.7"
  }
 },
 "nbformat": 4,
 "nbformat_minor": 2
}
