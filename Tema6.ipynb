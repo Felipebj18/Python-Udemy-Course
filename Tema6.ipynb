{
 "cells": [
  {
   "cell_type": "code",
   "execution_count": 2,
   "metadata": {},
   "outputs": [
    {
     "name": "stdout",
     "output_type": "stream",
     "text": [
      "['Juan', 31, 172.32, True]\n"
     ]
    }
   ],
   "source": [
    "l = [\"Juan\",31,172.32,True]\n",
    "print(l)"
   ]
  },
  {
   "cell_type": "code",
   "execution_count": 3,
   "metadata": {},
   "outputs": [],
   "source": [
    "names = [\"Maria\", \"Juan\", \"Claudia\"]"
   ]
  },
  {
   "cell_type": "code",
   "execution_count": 4,
   "metadata": {},
   "outputs": [],
   "source": [
    "names.insert(1,\"Andrés\")"
   ]
  },
  {
   "cell_type": "code",
   "execution_count": 8,
   "metadata": {},
   "outputs": [
    {
     "name": "stdout",
     "output_type": "stream",
     "text": [
      "Maria\n",
      "Andrés\n",
      "Juan\n",
      "Cristian\n",
      "Claudia\n"
     ]
    }
   ],
   "source": [
    "for i in names:\n",
    "    print(i)"
   ]
  },
  {
   "cell_type": "code",
   "execution_count": 9,
   "metadata": {},
   "outputs": [
    {
     "data": {
      "text/plain": [
       "[0, 0, 0, 0, 0, 0, 0, 0, 0, 0, 0, 0, 0, 0, 0, 0, 0, 0, 0, 0]"
      ]
     },
     "execution_count": 9,
     "metadata": {},
     "output_type": "execute_result"
    }
   ],
   "source": [
    "#Vector con 20 ceros\n",
    "l=[0]*20\n",
    "l"
   ]
  },
  {
   "cell_type": "code",
   "execution_count": 12,
   "metadata": {},
   "outputs": [],
   "source": [
    "#Métodos de listas\n",
    "numbers = [0,1,1,2,2,2,3,3,3,3]"
   ]
  },
  {
   "cell_type": "code",
   "execution_count": 16,
   "metadata": {},
   "outputs": [
    {
     "name": "stdout",
     "output_type": "stream",
     "text": [
      "El elemento 0 aparece 1  veces\n",
      "El elemento 1 aparece 2  veces\n",
      "El elemento 2 aparece 3  veces\n",
      "El elemento 3 aparece 4  veces\n"
     ]
    }
   ],
   "source": [
    "counted = []\n",
    "for element in numbers:\n",
    "    if element not in counted:\n",
    "        counted.append(element)\n",
    "        print(f\"El elemento {element} aparece {numbers.count(element)}  veces\")"
   ]
  },
  {
   "cell_type": "code",
   "execution_count": 19,
   "metadata": {},
   "outputs": [
    {
     "name": "stdout",
     "output_type": "stream",
     "text": [
      "[1, 2, 3, 4, 5, 6]\n",
      "[1, 2, 3, 4, 5, 6, 6, 7, 8, 9, 10, 11, 12, 13, 14, 15, 16, 17, 18]\n"
     ]
    }
   ],
   "source": [
    "numbers = [1,2,3,4,5]\n",
    "numbers.extend([6])\n",
    "print(numbers)\n",
    "numbers.extend(range(6,19))\n",
    "print(numbers)"
   ]
  },
  {
   "cell_type": "code",
   "execution_count": 25,
   "metadata": {},
   "outputs": [
    {
     "data": {
      "text/plain": [
       "6"
      ]
     },
     "execution_count": 25,
     "metadata": {},
     "output_type": "execute_result"
    }
   ],
   "source": [
    "numbers.pop(6)\n"
   ]
  },
  {
   "cell_type": "code",
   "execution_count": 31,
   "metadata": {},
   "outputs": [],
   "source": [
    "numbers.reverse()"
   ]
  },
  {
   "cell_type": "code",
   "execution_count": 34,
   "metadata": {},
   "outputs": [],
   "source": [
    "import random"
   ]
  },
  {
   "cell_type": "code",
   "execution_count": 35,
   "metadata": {},
   "outputs": [],
   "source": [
    "random.shuffle(numbers)"
   ]
  },
  {
   "cell_type": "code",
   "execution_count": 36,
   "metadata": {},
   "outputs": [
    {
     "data": {
      "text/plain": [
       "[5, 7, 6, 18, 2, 1, 9, 15, 13, 14, 12, 10, 16, 6, 4, 17, 11, 3, 8]"
      ]
     },
     "execution_count": 36,
     "metadata": {},
     "output_type": "execute_result"
    }
   ],
   "source": [
    "numbers"
   ]
  },
  {
   "cell_type": "code",
   "execution_count": 37,
   "metadata": {},
   "outputs": [],
   "source": [
    "numbers.sort(reverse=True)"
   ]
  },
  {
   "cell_type": "code",
   "execution_count": 38,
   "metadata": {},
   "outputs": [
    {
     "data": {
      "text/plain": [
       "[18, 17, 16, 15, 14, 13, 12, 11, 10, 9, 8, 7, 6, 6, 5, 4, 3, 2, 1]"
      ]
     },
     "execution_count": 38,
     "metadata": {},
     "output_type": "execute_result"
    }
   ],
   "source": [
    "numbers"
   ]
  },
  {
   "cell_type": "code",
   "execution_count": 39,
   "metadata": {},
   "outputs": [],
   "source": [
    "l=[\"m\",\"a\",\"r\",\"j\",\"b\",\"g\",\"i\",\"s\",\"f\"]"
   ]
  },
  {
   "cell_type": "code",
   "execution_count": 40,
   "metadata": {},
   "outputs": [
    {
     "name": "stdout",
     "output_type": "stream",
     "text": [
      "Lista original: ['m', 'a', 'r', 'j', 'b', 'g', 'i', 's', 'f']\n"
     ]
    }
   ],
   "source": [
    "print(f\"Lista original: {l}\")"
   ]
  },
  {
   "cell_type": "code",
   "execution_count": 41,
   "metadata": {},
   "outputs": [
    {
     "name": "stdout",
     "output_type": "stream",
     "text": [
      "La lista quedó así: ['m', 'a', 'j', 'b', 'g', 'i', 's', 'f']\n"
     ]
    }
   ],
   "source": [
    "c= input(\"Elemento que quieres eliminar\")\n",
    "if c in l:\n",
    "    l.remove(c)\n",
    "    print(f\"La lista quedó así: {l}\")"
   ]
  },
  {
   "cell_type": "code",
   "execution_count": 43,
   "metadata": {},
   "outputs": [
    {
     "name": "stdout",
     "output_type": "stream",
     "text": [
      "[-3.0, -2.0, -1.0, 0.0, 4.0, 5.0, 6.0, 7.0, 8.0, 9.0]\n"
     ]
    }
   ],
   "source": [
    "reversed = bool(input(\"Si quieres orden descendente escribe True. De lo contrario ingresa enter\"))\n",
    "l=[]\n",
    "for i in range(10):\n",
    "    l.append(float(input()))\n",
    "l.sort(reverse=reversed)\n",
    "\n",
    "print(l)"
   ]
  },
  {
   "cell_type": "code",
   "execution_count": 44,
   "metadata": {},
   "outputs": [],
   "source": [
    "odd=list(range(1,30,2))"
   ]
  },
  {
   "cell_type": "code",
   "execution_count": 47,
   "metadata": {},
   "outputs": [
    {
     "name": "stdout",
     "output_type": "stream",
     "text": [
      "El valor 1 ocupa la posición 0\n",
      "El valor 3 ocupa la posición 1\n",
      "El valor 5 ocupa la posición 2\n",
      "El valor 7 ocupa la posición 3\n",
      "El valor 9 ocupa la posición 4\n",
      "El valor 11 ocupa la posición 5\n",
      "El valor 13 ocupa la posición 6\n",
      "El valor 15 ocupa la posición 7\n",
      "El valor 17 ocupa la posición 8\n",
      "El valor 19 ocupa la posición 9\n",
      "El valor 21 ocupa la posición 10\n",
      "El valor 23 ocupa la posición 11\n",
      "El valor 25 ocupa la posición 12\n",
      "El valor 27 ocupa la posición 13\n",
      "El valor 29 ocupa la posición 14\n"
     ]
    }
   ],
   "source": [
    "for i in range(len(odd)):\n",
    "    print(f\"El valor {odd[i]} ocupa la posición {i}\")"
   ]
  },
  {
   "cell_type": "code",
   "execution_count": 48,
   "metadata": {},
   "outputs": [],
   "source": [
    "#Listas anidadas\n",
    "l_anidada = [[\"A\",\"B\",\"C\"],[[list(range(10,20,2))],[list(range(5))],[list(range(100,1000,200))]],3]"
   ]
  },
  {
   "cell_type": "code",
   "execution_count": 49,
   "metadata": {},
   "outputs": [
    {
     "data": {
      "text/plain": [
       "[['A', 'B', 'C'],\n",
       " [[[10, 12, 14, 16, 18]], [[0, 1, 2, 3, 4]], [[100, 300, 500, 700, 900]]],\n",
       " 3]"
      ]
     },
     "execution_count": 49,
     "metadata": {},
     "output_type": "execute_result"
    }
   ],
   "source": [
    "l_anidada"
   ]
  },
  {
   "cell_type": "code",
   "execution_count": 56,
   "metadata": {},
   "outputs": [
    {
     "data": {
      "text/plain": [
       "2"
      ]
     },
     "execution_count": 56,
     "metadata": {},
     "output_type": "execute_result"
    }
   ],
   "source": [
    "l_anidada[1][1][0][2]"
   ]
  },
  {
   "cell_type": "markdown",
   "metadata": {},
   "source": [
    "Matrices"
   ]
  },
  {
   "cell_type": "code",
   "execution_count": 57,
   "metadata": {},
   "outputs": [],
   "source": [
    "matrix = [[1,2,3],[4,5,6],[7,8,9]]"
   ]
  },
  {
   "cell_type": "code",
   "execution_count": 60,
   "metadata": {},
   "outputs": [
    {
     "data": {
      "text/plain": [
       "7"
      ]
     },
     "execution_count": 60,
     "metadata": {},
     "output_type": "execute_result"
    }
   ],
   "source": [
    "matrix[2][0]"
   ]
  },
  {
   "cell_type": "code",
   "execution_count": 61,
   "metadata": {},
   "outputs": [
    {
     "name": "stdout",
     "output_type": "stream",
     "text": [
      "[1, 2, 3]\n",
      "[4, 5, 6]\n",
      "[7, 8, 9]\n"
     ]
    }
   ],
   "source": [
    "for row in matrix:\n",
    "    print(row)"
   ]
  },
  {
   "cell_type": "code",
   "execution_count": 62,
   "metadata": {},
   "outputs": [
    {
     "name": "stdout",
     "output_type": "stream",
     "text": [
      "1\n",
      "2\n",
      "3\n",
      "4\n",
      "5\n",
      "6\n",
      "7\n",
      "8\n",
      "9\n"
     ]
    }
   ],
   "source": [
    "for row in matrix:\n",
    "    for element in row:\n",
    "        print(element)"
   ]
  },
  {
   "cell_type": "code",
   "execution_count": 63,
   "metadata": {},
   "outputs": [
    {
     "name": "stdout",
     "output_type": "stream",
     "text": [
      "1 2 3 \n",
      "4 5 6 \n",
      "7 8 9 \n"
     ]
    }
   ],
   "source": [
    "m=len(matrix)#filas\n",
    "n = len(matrix[0])#columnas\n",
    "\n",
    "for i in range(m):\n",
    "    for j in range(n):\n",
    "        print(matrix[i][j],end=\" \")\n",
    "    print(\"\")"
   ]
  },
  {
   "cell_type": "code",
   "execution_count": 64,
   "metadata": {},
   "outputs": [
    {
     "name": "stdout",
     "output_type": "stream",
     "text": [
      "1 2 3 \n",
      "4 5 6 \n",
      "7 8 9 \n"
     ]
    }
   ],
   "source": [
    "for i in matrix:\n",
    "    for j in i:\n",
    "        print(j,end=\" \")\n",
    "    print(\"\")"
   ]
  },
  {
   "cell_type": "code",
   "execution_count": 67,
   "metadata": {},
   "outputs": [
    {
     "name": "stdout",
     "output_type": "stream",
     "text": [
      "[[0, -2, -3], [0, 3, 1], [-1, -1, -3]]\n"
     ]
    }
   ],
   "source": [
    "A = [[1,0,-3],[2,0,1],[-1,-1,0]]\n",
    "B = [[-1,-2,0],[-2,3,0],[0,0,-3]]\n",
    "\n",
    "m=len(A)\n",
    "n=len(A[0])\n",
    "\n",
    "if len(A) == len(B) and len(A[0])==len(B[0]):\n",
    "    C=[]\n",
    "    for i in range(m):\n",
    "        C.append([])\n",
    "        for j in range(n):\n",
    "            C[i].append(A[i][j]+B[i][j])\n",
    "    print(C)\n",
    "    \n",
    "else:\n",
    "    print(\"No se puede realizar la suma\")"
   ]
  },
  {
   "cell_type": "code",
   "execution_count": 69,
   "metadata": {},
   "outputs": [],
   "source": [
    "A = [[1,0,-3,2],[2,0,1,1],[-1,0,-1,0]]\n",
    "B = [[-1,-2,0],[-2,3,0],[0,0,-3],[1,1,-1]]\n",
    "\n",
    "m,n,p=len(A),len(B),len(B[0])\n",
    "\n",
    "C=[]\n",
    "\n",
    "for i in range(m):\n",
    "    C.append([])\n",
    "    for j in range(p):\n",
    "        elemento=0\n",
    "        for k in range(n):\n",
    "            elemento = elemento + A[i][k]*B[k][j]\n",
    "        C[i].append(elemento)"
   ]
  },
  {
   "cell_type": "code",
   "execution_count": 74,
   "metadata": {},
   "outputs": [
    {
     "name": "stdout",
     "output_type": "stream",
     "text": [
      "3.0  7.0  3.0  54.0  \n",
      "3.0  7.0  3.0  54.0  \n",
      "3.0  7.0  3.0  54.0  \n",
      "3.0  7.0  3.0  54.0  \n"
     ]
    }
   ],
   "source": [
    "#Matriz 4x4 manualmente\n",
    "\n",
    "A=[]\n",
    "for i in range(4):\n",
    "    A.append([])\n",
    "    for j in range(4):\n",
    "        A[i].append(float(input(f\"Introduce el elemento ({i},{j})\")))\n",
    "        \n",
    "        \n",
    "for i in range(len(A)):\n",
    "    for i in range(len(A[0])):\n",
    "        print(A[i][j], end = \"  \" if A[i][j]>=0 else \" \")\n",
    "    print(\"\")"
   ]
  },
  {
   "cell_type": "code",
   "execution_count": 77,
   "metadata": {},
   "outputs": [
    {
     "name": "stdout",
     "output_type": "stream",
     "text": [
      "\n",
      "=== Matriz A ===\n",
      "\n",
      "=== Matriz B ===\n",
      "\n",
      "=== Matriz A+B ===\n",
      "65.0 6.0 8.0 10.0 "
     ]
    }
   ],
   "source": [
    "n = int(input(\"Ingrese el número de filas de las matrices\"))\n",
    "m = int(input(\"Ingrese el número de columnas de las matrices\"))\n",
    "\n",
    "A=[]\n",
    "\n",
    "print(\"\\n=== Matriz A ===\")\n",
    "\n",
    "for i in range(n):\n",
    "    A.append([])\n",
    "    for j in range(m):\n",
    "        A[i].append(float(input(f\"Introduce el elemento ({i},{j})\")))\n",
    "        \n",
    "B=[]\n",
    "\n",
    "print(\"\\n=== Matriz B ===\")\n",
    "\n",
    "for i in range(n):\n",
    "    B.append([])\n",
    "    for j in range(m):\n",
    "        B[i].append(float(input(f\"Introduce el elemento ({i},{j})\")))\n",
    "        \n",
    "C=[]\n",
    "\n",
    "for i in range (n):\n",
    "    C.append([])\n",
    "    for j in range(m):\n",
    "        C[i].append(A[i][j]+B[i][j])\n",
    "        \n",
    "print(\"\\n=== Matriz A+B ===\")\n",
    "\n",
    "for i in range(n):\n",
    "    for j in range(m):\n",
    "        print(C[i][j], end = \" \" if C[i][j]>=0 else \" \")"
   ]
  },
  {
   "cell_type": "code",
   "execution_count": 80,
   "metadata": {},
   "outputs": [
    {
     "name": "stdout",
     "output_type": "stream",
     "text": [
      "\n",
      " ===Matriz A===\n",
      "\n",
      " ===Matriz B===\n",
      "\n",
      " === Matriz A*B ====\n",
      "3.0  4.0   \n",
      "3.0  4.0   \n"
     ]
    }
   ],
   "source": [
    "#Producto de dos matrices dadas por el usuario\n",
    "\n",
    "n = int(input(\"Numero de filas de A\"))\n",
    "m = int(input(\"numero de columnas de A\"))\n",
    "p = int(input(\"numero de columnas de B\"))\n",
    "\n",
    "A = []\n",
    "\n",
    "print(\"\\n ===Matriz A===\")\n",
    "\n",
    "for i in range(n):\n",
    "    A.append([])\n",
    "    for j in range(m):\n",
    "        A[i].append(float(input(f\"Introduce el elemento ({i},{j})\")))\n",
    "\n",
    "B = []\n",
    "\n",
    "print(\"\\n ===Matriz B===\")\n",
    "\n",
    "for i in range(m):\n",
    "    B.append([])\n",
    "    for j in range(p):\n",
    "        B[i].append(float(input(f\"Introduce el elemento ({i},{j})\")))\n",
    "\n",
    "C=[]\n",
    "\n",
    "for i in range(n):#Filas de A\n",
    "    C.append([])\n",
    "    for j in range(p):#Columnas de B    \n",
    "        elemento = 0\n",
    "        for k in range(m):#Columnas de A = Filas de B\n",
    "             elemento += A[i][k] + B[k][j]\n",
    "        C[i].append(elemento)\n",
    "print(\"\\n === Matriz A*B ====\")\n",
    "for i in range(n):\n",
    "    for j in range(p):\n",
    "        print(C[i][j], end = \"  \" if C[i][j]>=0 else \" \")\n",
    "    print(\" \")"
   ]
  },
  {
   "cell_type": "code",
   "execution_count": 81,
   "metadata": {},
   "outputs": [],
   "source": [
    "import numpy as np"
   ]
  },
  {
   "cell_type": "code",
   "execution_count": 82,
   "metadata": {},
   "outputs": [],
   "source": [
    "#matriz vacía\n",
    "A = np.empty((2,3))# 2 filas y 3 columnas"
   ]
  },
  {
   "cell_type": "code",
   "execution_count": 83,
   "metadata": {},
   "outputs": [],
   "source": [
    "B=np.empty_like(A)#lasa mismas filas y columnas que A"
   ]
  },
  {
   "cell_type": "code",
   "execution_count": 85,
   "metadata": {},
   "outputs": [],
   "source": [
    "C=np.zeros((3,5))"
   ]
  },
  {
   "cell_type": "code",
   "execution_count": 86,
   "metadata": {},
   "outputs": [],
   "source": [
    "D=np.zeros_like(A)"
   ]
  },
  {
   "cell_type": "code",
   "execution_count": 88,
   "metadata": {},
   "outputs": [],
   "source": [
    "E = np.ones((1,4))"
   ]
  },
  {
   "cell_type": "code",
   "execution_count": 89,
   "metadata": {},
   "outputs": [],
   "source": [
    "F=np.ones_like(C)"
   ]
  },
  {
   "cell_type": "code",
   "execution_count": 91,
   "metadata": {},
   "outputs": [],
   "source": [
    "M= np.matrix([[1,0,-2,2],[2,0,1,1],[-1,0,-1,0]])"
   ]
  },
  {
   "cell_type": "code",
   "execution_count": 95,
   "metadata": {},
   "outputs": [
    {
     "data": {
      "text/plain": [
       "matrix([[ 0, -2, -3],\n",
       "        [ 0,  3,  1],\n",
       "        [-1, -1, -3]])"
      ]
     },
     "execution_count": 95,
     "metadata": {},
     "output_type": "execute_result"
    }
   ],
   "source": [
    "A = np.matrix([[1,0,-3],[2,0,1],[-1,-1,0]])\n",
    "B = np.matrix([[-1,-2,0],[-2,3,0],[0,0,-3]])\n",
    "\n",
    "matrixSum=A+B\n",
    "matrixSum\n"
   ]
  },
  {
   "cell_type": "code",
   "execution_count": 94,
   "metadata": {},
   "outputs": [
    {
     "data": {
      "text/plain": [
       "matrix([[ 1,  0,  7],\n",
       "        [-1, -3, -4],\n",
       "        [ 1,  2,  3]])"
      ]
     },
     "execution_count": 94,
     "metadata": {},
     "output_type": "execute_result"
    }
   ],
   "source": [
    "A = np.matrix([[1,0,-3,2],[2,0,1,1],[-1,0,-1,0]])\n",
    "B = np.matrix([[-1,-2,0],[-2,3,0],[0,0,-3],[1,1,-1]])\n",
    "matrixProd=A.dot(B)\n",
    "matrixProd"
   ]
  },
  {
   "cell_type": "code",
   "execution_count": 97,
   "metadata": {},
   "outputs": [
    {
     "name": "stdout",
     "output_type": "stream",
     "text": [
      "\n",
      " ===Matriz A===\n",
      "[[ 1.  0.]\n",
      " [ 0.  2.]\n",
      " [ 1. -1.]]\n"
     ]
    }
   ],
   "source": [
    "n = int(input(\"Filas de la matriz\"))\n",
    "m = int(input(\"Columnas de la matriz\"))\n",
    "\n",
    "A = np.empty((n,m))\n",
    "\n",
    "for i in range(n):\n",
    "    for j in range(m):\n",
    "        A[i,j]=float((input(f\"Introduce el elemento ({i},{j})\")))\n",
    "print(\"\\n ===Matriz A===\")\n",
    "print(A)"
   ]
  },
  {
   "cell_type": "code",
   "execution_count": 98,
   "metadata": {},
   "outputs": [
    {
     "name": "stdout",
     "output_type": "stream",
     "text": [
      "\n",
      " ===Matriz A===\n",
      "\n",
      " ===Matriz B===\n",
      "\n",
      " === Matriz A + B ===\n",
      "[[10.  8.]\n",
      " [ 7.  4.]\n",
      " [ 4.  1.]\n",
      " [ 1.  3.]]\n"
     ]
    }
   ],
   "source": [
    "n = int(input(\"Filas de las matrices\"))\n",
    "m = int(input(\"Columnas de las matrices\"))\n",
    "\n",
    "A=np.empty((n,m))\n",
    "print(\"\\n ===Matriz A===\")\n",
    "for i in range(n):\n",
    "    for j in range(m):\n",
    "        A[i,j]=float((input(f\"Introduce el elemento ({i},{j})\")))\n",
    "B=np.empty((n,m))\n",
    "print(\"\\n ===Matriz B===\")\n",
    "for i in range(n):\n",
    "    for j in range(m):\n",
    "        B[i,j]=float((input(f\"Introduce el elemento ({i},{j})\")))\n",
    "print(\"\\n === Matriz A + B ===\")\n",
    "print(A+B)"
   ]
  },
  {
   "cell_type": "code",
   "execution_count": 99,
   "metadata": {},
   "outputs": [
    {
     "name": "stdout",
     "output_type": "stream",
     "text": [
      "\n",
      " ===Matriz A===\n",
      "\n",
      " ===Matriz B===\n",
      "A*B\n",
      "[[ 3.  2.  0.]\n",
      " [ 1.  1. -1.]\n",
      " [ 1.  1. -1.]]\n"
     ]
    }
   ],
   "source": [
    "n = int(input(\"Filas de la matriz A\"))\n",
    "m = int(input(\"Columnas de la matriz A\"))\n",
    "p = int(input(\"Columnas de la matrice B\"))\n",
    "\n",
    "A=np.empty((n,m))\n",
    "print(\"\\n ===Matriz A===\")\n",
    "for i in range(n):\n",
    "    for j in range (m):\n",
    "        A[i,j] = float(input(f\"Ingrese el elemento ({i},{j})\"))\n",
    "B=np.empty((m,p))\n",
    "print(\"\\n ===Matriz B===\")\n",
    "for i in range(m):\n",
    "    for j in range(p):\n",
    "        B[i,j]=float(input(f\"Ingrese el elemento ({i},{j})\"))\n",
    "print(\"A*B\")\n",
    "print(A.dot(B))"
   ]
  },
  {
   "cell_type": "code",
   "execution_count": null,
   "metadata": {},
   "outputs": [],
   "source": [
    "\n"
   ]
  }
 ],
 "metadata": {
  "kernelspec": {
   "display_name": "base",
   "language": "python",
   "name": "python3"
  },
  "language_info": {
   "codemirror_mode": {
    "name": "ipython",
    "version": 3
   },
   "file_extension": ".py",
   "mimetype": "text/x-python",
   "name": "python",
   "nbconvert_exporter": "python",
   "pygments_lexer": "ipython3",
   "version": "3.9.7"
  }
 },
 "nbformat": 4,
 "nbformat_minor": 2
}
