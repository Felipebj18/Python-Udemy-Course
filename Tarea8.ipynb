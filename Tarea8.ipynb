{
 "cells": [
  {
   "cell_type": "code",
   "execution_count": 1,
   "metadata": {},
   "outputs": [
    {
     "name": "stdout",
     "output_type": "stream",
     "text": [
      "(1, 'impar')\n",
      "(3, 'impar')\n",
      "(2, 'par')\n",
      "(4, 'par')\n"
     ]
    }
   ],
   "source": [
    "#1\n",
    "n=int(input(\"Cuántos números enteros desea introducir?\"))\n",
    "for i in range(n):\n",
    "    num=int(input(\"Ingrese el número\"))\n",
    "    if(num%2==0):\n",
    "        tupla=(num,\"par\")\n",
    "        print(tupla)\n",
    "    else:\n",
    "        tupla=(num,\"impar\")\n",
    "        print(tupla)"
   ]
  },
  {
   "cell_type": "code",
   "execution_count": 11,
   "metadata": {},
   "outputs": [
    {
     "name": "stdout",
     "output_type": "stream",
     "text": [
      "El año 2019 corresponde al horóscopo del Cerdo\n"
     ]
    }
   ],
   "source": [
    "#2\n",
    "ano=int(input(\"Introduce un año\"))\n",
    "q=ano%12\n",
    "residuos=[i for i in range(0,12)]\n",
    "animales=[\"Mono\",\"Gallo\",\"Perro\",\"Cerdo\",\"Rata\",\"Buey\",\"Tigre\",\"Conejo\",\"Dragon\",\"Serpiente\",\"Caballo\",\"Cabra\"]\n",
    "horoscopo=tuple(zip(residuos,animales))\n",
    "print(f\"El año {ano} corresponde al horóscopo del {horoscopo[q][1]}\")"
   ]
  },
  {
   "cell_type": "code",
   "execution_count": 14,
   "metadata": {},
   "outputs": [
    {
     "name": "stdout",
     "output_type": "stream",
     "text": [
      "[('Felipe', 6, 0), ('Buitrago', 8, 1), ('Jiménez', 7, 2)]\n"
     ]
    }
   ],
   "source": [
    "#3\n",
    "s=input(\"Ingresa una frase:\")\n",
    "words=[]\n",
    "for w in s.split(\" \"):\n",
    "    words.append((w,len(w),s.split(\" \").index(w)))\n",
    "print(words)"
   ]
  },
  {
   "cell_type": "code",
   "execution_count": 29,
   "metadata": {},
   "outputs": [
    {
     "name": "stdout",
     "output_type": "stream",
     "text": [
      "Primera palabra: Hola\n",
      "Última palabra: estas\n"
     ]
    }
   ],
   "source": [
    "#4\n",
    "s=\" \"\n",
    "words=[]\n",
    "while(s!=\"\"):\n",
    "    s=input(\"Ingrese una palabra\")\n",
    "    if(s==\"\"):\n",
    "        break\n",
    "    words.append(s)\n",
    "t_words=tuple(words)\n",
    "first,*_,last=t_words\n",
    "print(f\"Primera palabra: {first}\\nÚltima palabra: {last}\")"
   ]
  },
  {
   "cell_type": "code",
   "execution_count": 19,
   "metadata": {},
   "outputs": [
    {
     "name": "stdout",
     "output_type": "stream",
     "text": [
      "{'Felipe': 6, 'Buitrago': 8, 'Jimenez': 7}\n"
     ]
    }
   ],
   "source": [
    "#5\n",
    "s=input(\"Ingresa una frase:\")\n",
    "words=s.split(\" \")\n",
    "lens=[len(word) for word in words]\n",
    "d=dict(zip(words,lens))\n",
    "print(d)"
   ]
  },
  {
   "cell_type": "code",
   "execution_count": 23,
   "metadata": {},
   "outputs": [
    {
     "name": "stdout",
     "output_type": "stream",
     "text": [
      "Palabras ('Hola', 'como ', 'estas')\n",
      "Número de caracteres:14\n"
     ]
    }
   ],
   "source": [
    "#6\n",
    "s=\" \"\n",
    "words=[]\n",
    "count_chars=0\n",
    "while(s!=\"\"):\n",
    "    s=input(\"Ingrese una palabra\")\n",
    "    if(s==\"\"):\n",
    "        break\n",
    "    count_chars+=len(s)\n",
    "    words.append(s)\n",
    "t_words=tuple(words)\n",
    "print(f\"Palabras {t_words}\\nNúmero de caracteres:{count_chars}\")"
   ]
  },
  {
   "cell_type": "code",
   "execution_count": 32,
   "metadata": {},
   "outputs": [
    {
     "name": "stdout",
     "output_type": "stream",
     "text": [
      "1x1=1\n",
      "1x2=2\n",
      "1x3=3\n",
      "1x4=4\n",
      "1x5=5\n",
      "1x6=6\n",
      "1x7=7\n",
      "1x8=8\n",
      "1x9=9\n",
      "1x10=10\n",
      "2x1=2\n",
      "2x2=4\n",
      "2x3=6\n",
      "2x4=8\n",
      "2x5=10\n",
      "2x6=12\n",
      "2x7=14\n",
      "2x8=16\n",
      "2x9=18\n",
      "2x10=20\n",
      "3x1=3\n",
      "3x2=6\n",
      "3x3=9\n",
      "3x4=12\n",
      "3x5=15\n",
      "3x6=18\n",
      "3x7=21\n",
      "3x8=24\n",
      "3x9=27\n",
      "3x10=30\n",
      "4x1=4\n",
      "4x2=8\n",
      "4x3=12\n",
      "4x4=16\n",
      "4x5=20\n",
      "4x6=24\n",
      "4x7=28\n",
      "4x8=32\n",
      "4x9=36\n",
      "4x10=40\n",
      "5x1=5\n",
      "5x2=10\n",
      "5x3=15\n",
      "5x4=20\n",
      "5x5=25\n",
      "5x6=30\n",
      "5x7=35\n",
      "5x8=40\n",
      "5x9=45\n",
      "5x10=50\n",
      "6x1=6\n",
      "6x2=12\n",
      "6x3=18\n",
      "6x4=24\n",
      "6x5=30\n",
      "6x6=36\n",
      "6x7=42\n",
      "6x8=48\n",
      "6x9=54\n",
      "6x10=60\n",
      "7x1=7\n",
      "7x2=14\n",
      "7x3=21\n",
      "7x4=28\n",
      "7x5=35\n",
      "7x6=42\n",
      "7x7=49\n",
      "7x8=56\n",
      "7x9=63\n",
      "7x10=70\n",
      "8x1=8\n",
      "8x2=16\n",
      "8x3=24\n",
      "8x4=32\n",
      "8x5=40\n",
      "8x6=48\n",
      "8x7=56\n",
      "8x8=64\n",
      "8x9=72\n",
      "8x10=80\n",
      "9x1=9\n",
      "9x2=18\n",
      "9x3=27\n",
      "9x4=36\n",
      "9x5=45\n",
      "9x6=54\n",
      "9x7=63\n",
      "9x8=72\n",
      "9x9=81\n",
      "9x10=90\n",
      "10x1=10\n",
      "10x2=20\n",
      "10x3=30\n",
      "10x4=40\n",
      "10x5=50\n",
      "10x6=60\n",
      "10x7=70\n",
      "10x8=80\n",
      "10x9=90\n",
      "10x10=100\n",
      "11x1=11\n",
      "11x2=22\n",
      "11x3=33\n",
      "11x4=44\n",
      "11x5=55\n",
      "11x6=66\n",
      "11x7=77\n",
      "11x8=88\n",
      "11x9=99\n",
      "11x10=110\n",
      "12x1=12\n",
      "12x2=24\n",
      "12x3=36\n",
      "12x4=48\n",
      "12x5=60\n",
      "12x6=72\n",
      "12x7=84\n",
      "12x8=96\n",
      "12x9=108\n",
      "12x10=120\n",
      "13x1=13\n",
      "13x2=26\n",
      "13x3=39\n",
      "13x4=52\n",
      "13x5=65\n",
      "13x6=78\n",
      "13x7=91\n",
      "13x8=104\n",
      "13x9=117\n",
      "13x10=130\n",
      "14x1=14\n",
      "14x2=28\n",
      "14x3=42\n",
      "14x4=56\n",
      "14x5=70\n",
      "14x6=84\n",
      "14x7=98\n",
      "14x8=112\n",
      "14x9=126\n",
      "14x10=140\n",
      "15x1=15\n",
      "15x2=30\n",
      "15x3=45\n",
      "15x4=60\n",
      "15x5=75\n",
      "15x6=90\n",
      "15x7=105\n",
      "15x8=120\n",
      "15x9=135\n",
      "15x10=150\n",
      "16x1=16\n",
      "16x2=32\n",
      "16x3=48\n",
      "16x4=64\n",
      "16x5=80\n",
      "16x6=96\n",
      "16x7=112\n",
      "16x8=128\n",
      "16x9=144\n",
      "16x10=160\n",
      "17x1=17\n",
      "17x2=34\n",
      "17x3=51\n",
      "17x4=68\n",
      "17x5=85\n",
      "17x6=102\n",
      "17x7=119\n",
      "17x8=136\n",
      "17x9=153\n",
      "17x10=170\n",
      "18x1=18\n",
      "18x2=36\n",
      "18x3=54\n",
      "18x4=72\n",
      "18x5=90\n",
      "18x6=108\n",
      "18x7=126\n",
      "18x8=144\n",
      "18x9=162\n",
      "18x10=180\n",
      "19x1=19\n",
      "19x2=38\n",
      "19x3=57\n",
      "19x4=76\n",
      "19x5=95\n",
      "19x6=114\n",
      "19x7=133\n",
      "19x8=152\n",
      "19x9=171\n",
      "19x10=190\n",
      "20x1=20\n",
      "20x2=40\n",
      "20x3=60\n",
      "20x4=80\n",
      "20x5=100\n",
      "20x6=120\n",
      "20x7=140\n",
      "20x8=160\n",
      "20x9=180\n",
      "20x10=200\n"
     ]
    }
   ],
   "source": [
    "#7\n",
    "nums=[i for i in range(1,21)]\n",
    "multiples=[]\n",
    "for num in nums:\n",
    "    multiples.append([x*num for x in range(1,11)])\n",
    "t_multiples=tuple(zip(nums,multiples))\n",
    "for t,m in t_multiples:\n",
    "    for i in range(len(m)):\n",
    "        print(f\"{t}x{i+1}={m[i]}\")\n"
   ]
  },
  {
   "cell_type": "code",
   "execution_count": 33,
   "metadata": {},
   "outputs": [
    {
     "name": "stdout",
     "output_type": "stream",
     "text": [
      "dividendo 10,divisor 4,cociente 2,resto 2\n"
     ]
    }
   ],
   "source": [
    "#8\n",
    "num1=int(input(\"Ingrese un numero\"))\n",
    "num2=int(input(\"Ingrese un numero\"))\n",
    "\n",
    "if(num1>=num2):\n",
    "    t=(num1,num2,num1//num2,num1%num2)\n",
    "else:\n",
    "    print(\"El segundo número es mayor al primero\")\n",
    "print(f\"dividendo {t[0]},divisor {t[1]},cociente {t[2]},resto {t[3]}\")\n",
    "    "
   ]
  },
  {
   "cell_type": "code",
   "execution_count": 38,
   "metadata": {},
   "outputs": [
    {
     "name": "stdout",
     "output_type": "stream",
     "text": [
      "(185, 3.2288591161895095)\n"
     ]
    }
   ],
   "source": [
    "#9\n",
    "grados=int(input(\"Ingresa un numero de 0 a 360\"))\n",
    "pi=3.141592653589793\n",
    "rad=(grados*pi)/180\n",
    "t=grados,rad\n",
    "print(t)"
   ]
  },
  {
   "cell_type": "code",
   "execution_count": 46,
   "metadata": {},
   "outputs": [
    {
     "name": "stdout",
     "output_type": "stream",
     "text": [
      "((7-5j), (-7+5j), (7+5j))\n"
     ]
    }
   ],
   "source": [
    "#10\n",
    "input_comp=complex(input(\"Ingresa un número complejo\"))\n",
    "t=(input_comp,-input_comp,input_comp.conjugate())\n",
    "print(t)"
   ]
  }
 ],
 "metadata": {
  "kernelspec": {
   "display_name": "base",
   "language": "python",
   "name": "python3"
  },
  "language_info": {
   "codemirror_mode": {
    "name": "ipython",
    "version": 3
   },
   "file_extension": ".py",
   "mimetype": "text/x-python",
   "name": "python",
   "nbconvert_exporter": "python",
   "pygments_lexer": "ipython3",
   "version": "3.9.7"
  }
 },
 "nbformat": 4,
 "nbformat_minor": 2
}
