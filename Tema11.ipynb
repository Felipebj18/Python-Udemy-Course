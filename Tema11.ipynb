{
 "cells": [
  {
   "cell_type": "markdown",
   "metadata": {},
   "source": [
    "Lambda functions"
   ]
  },
  {
   "cell_type": "code",
   "execution_count": 1,
   "metadata": {},
   "outputs": [
    {
     "data": {
      "text/plain": [
       "15"
      ]
     },
     "execution_count": 1,
     "metadata": {},
     "output_type": "execute_result"
    }
   ],
   "source": [
    "plus10 = lambda x:x+10\n",
    "plus10(5)\n"
   ]
  },
  {
   "cell_type": "code",
   "execution_count": 2,
   "metadata": {},
   "outputs": [],
   "source": [
    "prod = lambda x,y:x*y"
   ]
  },
  {
   "cell_type": "code",
   "execution_count": 4,
   "metadata": {},
   "outputs": [],
   "source": [
    "disc = lambda a,b,c: b**2 - 4*a*c"
   ]
  },
  {
   "cell_type": "code",
   "execution_count": 9,
   "metadata": {},
   "outputs": [],
   "source": [
    "double_square=lambda a:(a,2*a,a**2)"
   ]
  },
  {
   "cell_type": "code",
   "execution_count": 12,
   "metadata": {},
   "outputs": [
    {
     "data": {
      "text/plain": [
       "[49, 147]"
      ]
     },
     "execution_count": 12,
     "metadata": {},
     "output_type": "execute_result"
    }
   ],
   "source": [
    "nums=[49,57,62,147,2101,22]\n",
    "list(filter(lambda x: (x%7==0),nums))#filter(función lambda,objeto iterable)"
   ]
  },
  {
   "cell_type": "code",
   "execution_count": 13,
   "metadata": {},
   "outputs": [],
   "source": [
    "def third_letter_is_s(word):\n",
    "    return word[2]==\"s\""
   ]
  },
  {
   "cell_type": "code",
   "execution_count": 14,
   "metadata": {},
   "outputs": [
    {
     "data": {
      "text/plain": [
       "['castaña', 'masa', 'tostada']"
      ]
     },
     "execution_count": 14,
     "metadata": {},
     "output_type": "execute_result"
    }
   ],
   "source": [
    "words = [\"castaña\",\"astronomía\",\"masa\",\"bolígrafo\",\"mando\",\"tostada\"]\n",
    "list(filter(third_letter_is_s,words))"
   ]
  },
  {
   "cell_type": "code",
   "execution_count": 15,
   "metadata": {},
   "outputs": [
    {
     "data": {
      "text/plain": [
       "6"
      ]
     },
     "execution_count": 15,
     "metadata": {},
     "output_type": "execute_result"
    }
   ],
   "source": [
    "l_nums=[5,2,-3,4,-7,43]\n",
    "len(nums)"
   ]
  },
  {
   "cell_type": "code",
   "execution_count": 19,
   "metadata": {},
   "outputs": [
    {
     "data": {
      "text/plain": [
       "[-3, -7]"
      ]
     },
     "execution_count": 19,
     "metadata": {},
     "output_type": "execute_result"
    }
   ],
   "source": [
    "list(filter(lambda x:x<0,l_nums))"
   ]
  },
  {
   "cell_type": "code",
   "execution_count": 20,
   "metadata": {},
   "outputs": [],
   "source": [
    " from functools import reduce"
   ]
  },
  {
   "cell_type": "code",
   "execution_count": 25,
   "metadata": {},
   "outputs": [
    {
     "data": {
      "text/plain": [
       "0"
      ]
     },
     "execution_count": 25,
     "metadata": {},
     "output_type": "execute_result"
    }
   ],
   "source": [
    "nums=[i for i in range(-20,33)]\n",
    "reduce(lambda x,y: x*y,nums)"
   ]
  },
  {
   "cell_type": "code",
   "execution_count": 26,
   "metadata": {},
   "outputs": [],
   "source": [
    "def bigger_than(a,b):\n",
    "    if(a>b):\n",
    "        return a\n",
    "    return b"
   ]
  },
  {
   "cell_type": "code",
   "execution_count": 27,
   "metadata": {},
   "outputs": [
    {
     "data": {
      "text/plain": [
       "32"
      ]
     },
     "execution_count": 27,
     "metadata": {},
     "output_type": "execute_result"
    }
   ],
   "source": [
    "reduce(bigger_than,nums)"
   ]
  },
  {
   "cell_type": "code",
   "execution_count": 40,
   "metadata": {},
   "outputs": [],
   "source": [
    "def total_a(w):\n",
    "    a=0\n",
    "    for c in w.lower():\n",
    "        if c == \"a\":\n",
    "            a+=1\n",
    "    return a\n",
    "\n",
    "def more_a(w1,w2):\n",
    "    \"\"\"\n",
    "    Devuelve palabra con mas a\n",
    "\n",
    "\n",
    "    Args:\n",
    "        w1 (str): palabra\n",
    "        w2 (str): palabra\n",
    "    Returns:\n",
    "        El string con mas a\n",
    "    \"\"\"\n",
    "    if total_a(w1)>=total_a(w2):\n",
    "        return w1\n",
    "    return w2\n"
   ]
  },
  {
   "cell_type": "code",
   "execution_count": 57,
   "metadata": {},
   "outputs": [],
   "source": [
    "words = [\"gato\", \"perroo\", \"casa\", \"jardín\", \"libro\", \"papel\", \"lápiz\", \"mesa\", \"silla\", \"puerta\",\"amargada\"]"
   ]
  },
  {
   "cell_type": "code",
   "execution_count": 43,
   "metadata": {},
   "outputs": [
    {
     "data": {
      "text/plain": [
       "'amargada'"
      ]
     },
     "execution_count": 43,
     "metadata": {},
     "output_type": "execute_result"
    }
   ],
   "source": [
    "reduce(lambda w1,w2:more_a(w1,w2),words)"
   ]
  },
  {
   "cell_type": "code",
   "execution_count": 44,
   "metadata": {},
   "outputs": [
    {
     "data": {
      "text/plain": [
       "[4, 5, 4, 6, 5, 5, 5, 4, 5, 6, 8]"
      ]
     },
     "execution_count": 44,
     "metadata": {},
     "output_type": "execute_result"
    }
   ],
   "source": [
    "list(map(lambda w:len(w),words))"
   ]
  },
  {
   "cell_type": "code",
   "execution_count": 45,
   "metadata": {},
   "outputs": [
    {
     "data": {
      "text/plain": [
       "[4, 5, 4, 6, 5, 5, 5, 4, 5, 6, 8]"
      ]
     },
     "execution_count": 45,
     "metadata": {},
     "output_type": "execute_result"
    }
   ],
   "source": [
    "list(map(len,words))"
   ]
  },
  {
   "cell_type": "code",
   "execution_count": 51,
   "metadata": {},
   "outputs": [
    {
     "name": "stdout",
     "output_type": "stream",
     "text": [
      "[32.0, 59.0, 86.0, 113.0, 140.0, 167.0, 194.0, 221.0, 248.0, 275.0, 302.0, 329.0, 356.0, 383.0]\n"
     ]
    }
   ],
   "source": [
    "c_grades=[]\n",
    "def from_c_to_f(celsius):\n",
    "    \"\"\"\n",
    "    Convierte grados celcius en f\n",
    "\n",
    "    Args:\n",
    "        celsius (real)\n",
    "    Returns:\n",
    "        fahrenheir (real)\n",
    "    \"\"\"\n",
    "    fahrenheit = (celsius * 9/5)+32\n",
    "    return fahrenheit\n",
    "\n",
    "celsius=[i for i in range(0,200,15)]\n",
    "print(list(map(from_c_to_f,celsius)))"
   ]
  },
  {
   "cell_type": "code",
   "execution_count": 53,
   "metadata": {},
   "outputs": [
    {
     "data": {
      "text/plain": [
       "['gato',\n",
       " 'casa',\n",
       " 'mesa',\n",
       " 'perro',\n",
       " 'libro',\n",
       " 'papel',\n",
       " 'lápiz',\n",
       " 'silla',\n",
       " 'jardín',\n",
       " 'puerta',\n",
       " 'amargada']"
      ]
     },
     "execution_count": 53,
     "metadata": {},
     "output_type": "execute_result"
    }
   ],
   "source": [
    "sorted(words,key=lambda x:len(x))"
   ]
  },
  {
   "cell_type": "code",
   "execution_count": 54,
   "metadata": {},
   "outputs": [
    {
     "data": {
      "text/plain": [
       "['amargada',\n",
       " 'casa',\n",
       " 'gato',\n",
       " 'jardín',\n",
       " 'libro',\n",
       " 'lápiz',\n",
       " 'mesa',\n",
       " 'papel',\n",
       " 'perro',\n",
       " 'puerta',\n",
       " 'silla']"
      ]
     },
     "execution_count": 54,
     "metadata": {},
     "output_type": "execute_result"
    }
   ],
   "source": [
    "sorted(words)#función de ordenamiento por defecto que tenga python"
   ]
  },
  {
   "cell_type": "code",
   "execution_count": 58,
   "metadata": {},
   "outputs": [],
   "source": [
    "def total_letter(w,l):\n",
    "    \"\"\"\n",
    "    Decuelve el total de apariciones de la letra indicada en la palabra\n",
    "\n",
    "    Args:\n",
    "        w (str): palabra\n",
    "        l (str): letre\n",
    "    Return:\n",
    "        letter:número entero\n",
    "    \"\"\"\n",
    "    letter = 0\n",
    "    for c in w.lower():\n",
    "        if c == l.lower():\n",
    "            letter+=1\n",
    "    return letter"
   ]
  },
  {
   "cell_type": "code",
   "execution_count": 60,
   "metadata": {},
   "outputs": [
    {
     "data": {
      "text/plain": [
       "['amargada',\n",
       " 'casa',\n",
       " 'gato',\n",
       " 'jardín',\n",
       " 'papel',\n",
       " 'mesa',\n",
       " 'silla',\n",
       " 'puerta',\n",
       " 'perroo',\n",
       " 'libro',\n",
       " 'lápiz']"
      ]
     },
     "execution_count": 60,
     "metadata": {},
     "output_type": "execute_result"
    }
   ],
   "source": [
    "l = input(\"Introduce una letra\")\n",
    "sorted(words,key=lambda w:total_letter(w,l),reverse=True)"
   ]
  },
  {
   "cell_type": "code",
   "execution_count": 61,
   "metadata": {},
   "outputs": [],
   "source": [
    "from numpy import random\n"
   ]
  },
  {
   "cell_type": "code",
   "execution_count": 71,
   "metadata": {},
   "outputs": [
    {
     "data": {
      "text/plain": [
       "array([3, 4, 5])"
      ]
     },
     "execution_count": 71,
     "metadata": {},
     "output_type": "execute_result"
    }
   ],
   "source": [
    "random.randint(1,7,3)"
   ]
  }
 ],
 "metadata": {
  "kernelspec": {
   "display_name": "base",
   "language": "python",
   "name": "python3"
  },
  "language_info": {
   "codemirror_mode": {
    "name": "ipython",
    "version": 3
   },
   "file_extension": ".py",
   "mimetype": "text/x-python",
   "name": "python",
   "nbconvert_exporter": "python",
   "pygments_lexer": "ipython3",
   "version": "3.9.7"
  }
 },
 "nbformat": 4,
 "nbformat_minor": 2
}
