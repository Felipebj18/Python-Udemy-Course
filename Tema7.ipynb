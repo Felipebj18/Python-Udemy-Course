{
 "cells": [
  {
   "cell_type": "markdown",
   "metadata": {},
   "source": [
    "Diccionarios"
   ]
  },
  {
   "cell_type": "markdown",
   "metadata": {},
   "source": [
    "Datos a pedir:\n",
    "nombre\n",
    "appellido \n",
    "edad\n",
    "DNI\n",
    "Total a pagar"
   ]
  },
  {
   "cell_type": "code",
   "execution_count": 26,
   "metadata": {},
   "outputs": [],
   "source": [
    "client={}\n",
    "client[\"name\"]=input(\"Introduzca el nombre del cliente\")\n",
    "client[\"surname\"]=input(\"Introduzca el apellido del cliente\")\n",
    "client[\"age\"]=input(\"Introduzca la edad del cliente\")\n",
    "client[\"dni\"]=input(\"Introduzca documento del cliente\")\n",
    "client[\"total\"]=input(\"Introduzca el total a pagar del cliente\")\n"
   ]
  },
  {
   "cell_type": "code",
   "execution_count": 27,
   "metadata": {},
   "outputs": [
    {
     "name": "stdout",
     "output_type": "stream",
     "text": [
      "{'name': '', 'surname': '', 'age': '', 'dni': '', 'total': ''}\n"
     ]
    }
   ],
   "source": [
    "print(client)"
   ]
  },
  {
   "cell_type": "code",
   "execution_count": 28,
   "metadata": {},
   "outputs": [],
   "source": [
    "dicc={\"fruit\":[\"Manzana\",\"Pera\",\"Naranja\",],\n",
    "      \"price\":[2,1.5,1],\n",
    "      \"color\":[\"roja\",\"verde\",\"naranja\"]\n",
    "     }"
   ]
  },
  {
   "cell_type": "code",
   "execution_count": 29,
   "metadata": {},
   "outputs": [
    {
     "ename": "ValueError",
     "evalue": "invalid literal for int() with base 10: 'Felipe'",
     "output_type": "error",
     "traceback": [
      "\u001b[1;31m---------------------------------------------------------------------------\u001b[0m",
      "\u001b[1;31mValueError\u001b[0m                                Traceback (most recent call last)",
      "\u001b[1;32mC:\\Users\\FELIPE~1.LAP\\AppData\\Local\\Temp/ipykernel_38960/1075031835.py\u001b[0m in \u001b[0;36m<module>\u001b[1;34m\u001b[0m\n\u001b[0;32m      1\u001b[0m \u001b[0mnums\u001b[0m\u001b[1;33m=\u001b[0m\u001b[1;33m[\u001b[0m\u001b[1;33m]\u001b[0m\u001b[1;33m\u001b[0m\u001b[1;33m\u001b[0m\u001b[0m\n\u001b[0;32m      2\u001b[0m \u001b[1;32mfor\u001b[0m \u001b[0mi\u001b[0m \u001b[1;32min\u001b[0m \u001b[0mrange\u001b[0m\u001b[1;33m(\u001b[0m\u001b[1;36m8\u001b[0m\u001b[1;33m)\u001b[0m\u001b[1;33m:\u001b[0m\u001b[1;33m\u001b[0m\u001b[1;33m\u001b[0m\u001b[0m\n\u001b[1;32m----> 3\u001b[1;33m     \u001b[0mnums\u001b[0m\u001b[1;33m.\u001b[0m\u001b[0mappend\u001b[0m\u001b[1;33m(\u001b[0m\u001b[0mint\u001b[0m\u001b[1;33m(\u001b[0m\u001b[0minput\u001b[0m\u001b[1;33m(\u001b[0m\u001b[1;34mf\"Introduce el número {i}\"\u001b[0m\u001b[1;33m)\u001b[0m\u001b[1;33m)\u001b[0m\u001b[1;33m)\u001b[0m\u001b[1;33m\u001b[0m\u001b[1;33m\u001b[0m\u001b[0m\n\u001b[0m\u001b[0;32m      4\u001b[0m \u001b[1;33m\u001b[0m\u001b[0m\n\u001b[0;32m      5\u001b[0m \u001b[0mdni\u001b[0m\u001b[1;33m=\u001b[0m\u001b[1;36m0\u001b[0m\u001b[1;33m\u001b[0m\u001b[1;33m\u001b[0m\u001b[0m\n",
      "\u001b[1;31mValueError\u001b[0m: invalid literal for int() with base 10: 'Felipe'"
     ]
    }
   ],
   "source": [
    "nums=[]\n",
    "for i in range(8):\n",
    "    nums.append(int(input(f\"Introduce el número {i}\")))\n",
    "\n",
    "dni=0\n",
    "for i in range(len(nums)):\n",
    "    dni+=10**(len(nums)-i-1)*nums[i]\n",
    "\n",
    "letters = {0: \"T\", 1: \"R\", 2: \"W\", 3: \"A\", 4: \"G\", 5: \"M\", 6: \"Y\",\n",
    "           7: \"F\", 8: \"P\", 9: \"D\", 10: \"X\", 11: \"B\", 12: \"N\", 13: \"J\",\n",
    "           14: \"Z\", 15: \"S\", 16: \"Q\", 17: \"V\", 18: \"H\", 19: \"L\", 20: \"C\",\n",
    "           21: \"K\", 22: \"E\"}\n",
    "\n",
    "letter = letters[dni % 23]\n",
    "\n",
    "DNI={\"numbers\":nums,\"letter\":letter}\n",
    "\n",
    "\n",
    "print(DNI)"
   ]
  },
  {
   "cell_type": "code",
   "execution_count": null,
   "metadata": {},
   "outputs": [
    {
     "name": "stdout",
     "output_type": "stream",
     "text": [
      "{'H': 1, 'O': 2, 'L': 1, 'A': 2, 'T': 1, 'E': 1, 'M': 1}\n"
     ]
    }
   ],
   "source": [
    "s=input(\"Introduce una frase\")\n",
    "counted = []\n",
    "letters = {}\n",
    "\n",
    "s = s.lower()\n",
    "\n",
    "for c in s:\n",
    "    if c not in counted and c != \" \":\n",
    "        letters[c.upper()]=s.count(c)\n",
    "        \n",
    "print(letters)"
   ]
  },
  {
   "cell_type": "code",
   "execution_count": null,
   "metadata": {},
   "outputs": [
    {
     "name": "stdout",
     "output_type": "stream",
     "text": [
      "{1: 1, 2: 8, 3: 27, 4: 64}\n"
     ]
    }
   ],
   "source": [
    "#1\n",
    "num=int(input(\"Ingresa un número enter:\"))\n",
    "dic={}\n",
    "for i in range(num):\n",
    "    dic[i+1]=(i+1)**3\n",
    "print(dic)"
   ]
  },
  {
   "cell_type": "code",
   "execution_count": null,
   "metadata": {},
   "outputs": [
    {
     "name": "stdout",
     "output_type": "stream",
     "text": [
      "Felipe tiene 21 años y su teléfono es 3108900258\n"
     ]
    }
   ],
   "source": [
    "#2\n",
    "name=input(\"Ingresa tu nombre\")\n",
    "age=input(\"Ingresa tu edad\")\n",
    "tel=input(\"Ingresa tu teléfono\")\n",
    "dic={}\n",
    "dic[\"name\"]=name\n",
    "dic[\"age\"]=age\n",
    "dic[\"tel\"]=tel\n",
    "print(f\"{name} tiene {age} años y su teléfono es {tel}\")"
   ]
  },
  {
   "cell_type": "code",
   "execution_count": null,
   "metadata": {},
   "outputs": [
    {
     "name": "stdout",
     "output_type": "stream",
     "text": [
      "tomate  $ 3\n",
      "cebolla  $ 3\n",
      "aguacate  $ 3\n",
      "TOTAL:    $9.0\n"
     ]
    }
   ],
   "source": [
    "#3\n",
    "compra = True\n",
    "articulos = {}\n",
    "while(compra):\n",
    "    art=str(input(\"Ingrese el artículo o ingrese x para salir\"))\n",
    "    if art.lower()==\"x\":\n",
    "        break\n",
    "    price=input(\"Ingrese el precio del artículo\")\n",
    "    articulos[art]=price\n",
    "precios=[]\n",
    "for articulo,precio in articulos.items():\n",
    "    precios.append(float(precio))\n",
    "    print(articulo,\" $\",precio)\n",
    "print(f\"TOTAL:    ${sum(precios)}\")"
   ]
  },
  {
   "cell_type": "code",
   "execution_count": null,
   "metadata": {},
   "outputs": [
    {
     "name": "stdout",
     "output_type": "stream",
     "text": [
      "Números positivos: [4, 3, 4]\n",
      "Números negativos: [-5, -45, -45, -65]\n"
     ]
    }
   ],
   "source": [
    "#4\n",
    "num = 1\n",
    "numeros={}\n",
    "positivos = []\n",
    "negativos = []\n",
    "while(num!=0):\n",
    "    num = int(input(\"Ingrese un número entero\"))\n",
    "    if(num>0):\n",
    "        positivos.append(num)\n",
    "    elif(num<0):\n",
    "        negativos.append(num)\n",
    "numeros[\"positivos\"]=positivos\n",
    "numeros[\"negativos\"]=negativos\n",
    "print(f\"Números positivos: {numeros['positivos']}\\nNúmeros negativos: {numeros['negativos']}\")"
   ]
  },
  {
   "cell_type": "code",
   "execution_count": null,
   "metadata": {},
   "outputs": [
    {
     "name": "stdout",
     "output_type": "stream",
     "text": [
      "Números pares: 4\n",
      "Números impares: 4\n"
     ]
    }
   ],
   "source": [
    "#5\n",
    "num = 1\n",
    "numeros={}\n",
    "pares = []\n",
    "impares = []\n",
    "while(num!=0):\n",
    "    num = int(input(\"Ingrese un número entero\"))\n",
    "    if(num%2==0 and num!=0):\n",
    "        pares.append(num)\n",
    "    else:\n",
    "        if(num!=0):\n",
    "            impares.append(num)\n",
    "numeros[\"pares\"]=pares\n",
    "numeros[\"impares\"]=impares\n",
    "print(f\"Números pares: {len(numeros['pares'])}\\nNúmeros impares: {len(numeros['impares'])}\")"
   ]
  },
  {
   "cell_type": "code",
   "execution_count": 30,
   "metadata": {},
   "outputs": [
    {
     "name": "stdout",
     "output_type": "stream",
     "text": [
      "{'Felipe': [2, 3], 'Majo': [4, 5]}\n",
      "Felipe--Promedio:2.5\n",
      "Majo--Promedio:4.5\n"
     ]
    }
   ],
   "source": [
    "#6\n",
    "estudiantes = {}\n",
    "bandera=True\n",
    "while(bandera):\n",
    "    notas=[]\n",
    "    estudiante=input(\"Ingrese el nombre del estudiante\")\n",
    "    if(estudiante==\"\"):\n",
    "        break\n",
    "    nota=20\n",
    "    while(nota!=0):\n",
    "        nota=int(input(\"Ingrese la nota\"))\n",
    "        if(nota==0):\n",
    "            break\n",
    "        notas.append(nota)\n",
    "    estudiantes[estudiante]=notas\n",
    "print(estudiantes)\n",
    "for student,grades in estudiantes.items():\n",
    "     print(f\"{student}--Promedio:{sum(grades)/len(grades)}\")"
   ]
  },
  {
   "cell_type": "code",
   "execution_count": 31,
   "metadata": {},
   "outputs": [
    {
     "name": "stdout",
     "output_type": "stream",
     "text": [
      "{1: '*', 2: '**', 3: '***', 4: '****', 5: '*****'}\n"
     ]
    }
   ],
   "source": [
    "#7\n",
    "num = int(input(\"Ingrese un número\"))\n",
    "dic={}\n",
    "for i in range(num):\n",
    "    dic[i+1]=\"*\"*(i+1)\n",
    "print(dic)"
   ]
  },
  {
   "cell_type": "code",
   "execution_count": 34,
   "metadata": {},
   "outputs": [
    {
     "name": "stdout",
     "output_type": "stream",
     "text": [
      "{'Felipe': 6, 'Majo': 4, 'Hola': 4}\n"
     ]
    }
   ],
   "source": [
    "#8\n",
    "num = int(input(\"Cuántas palabras quiere introducir?\"))\n",
    "palabras={}\n",
    "for i in range (num):\n",
    "    palabra=input(f\"Ingrese la palabra {i+1}\")\n",
    "    palabras[palabra]=len(palabra)\n",
    "print(palabras)"
   ]
  },
  {
   "cell_type": "code",
   "execution_count": 36,
   "metadata": {},
   "outputs": [
    {
     "name": "stdout",
     "output_type": "stream",
     "text": [
      "{'Felipe': 3, 'Majo': 2, 'Hola': 2}\n"
     ]
    }
   ],
   "source": [
    "#9\n",
    "num = int(input(\"Cuántas palabras quiere introducir?\"))\n",
    "vocales=[\"a\",\"e\",\"i\",\"o\",\"u\"]\n",
    "palabras={}\n",
    "for i in range (num):\n",
    "    palabra=input(f\"Ingrese la palabra {i+1}\")\n",
    "    contador=0\n",
    "    for letra in palabra:\n",
    "        if letra in vocales:\n",
    "            contador+=1\n",
    "    palabras[palabra]=contador\n",
    "print(palabras)\n"
   ]
  },
  {
   "cell_type": "code",
   "execution_count": 43,
   "metadata": {},
   "outputs": [
    {
     "name": "stdout",
     "output_type": "stream",
     "text": [
      "{'filas': 3, 'columnas': 3, 'fila1': array([1., 1., 1.]), 'fila2': array([1., 1., 1.]), 'fila3': array([1., 1., 1.])}\n"
     ]
    }
   ],
   "source": [
    "#10\n",
    "import numpy as np\n",
    "matriz = np.ones((3,3))\n",
    "contador=0\n",
    "mat={\"filas\":len(matriz),\"columnas\":len(matriz[0])}\n",
    "for i in range(len(matriz)):\n",
    "    mat[\"fila\" + str(i+1)]=matriz[i]\n",
    "print(mat)"
   ]
  },
  {
   "cell_type": "code",
   "execution_count": null,
   "metadata": {},
   "outputs": [],
   "source": []
  }
 ],
 "metadata": {
  "kernelspec": {
   "display_name": "base",
   "language": "python",
   "name": "python3"
  },
  "language_info": {
   "codemirror_mode": {
    "name": "ipython",
    "version": 3
   },
   "file_extension": ".py",
   "mimetype": "text/x-python",
   "name": "python",
   "nbconvert_exporter": "python",
   "pygments_lexer": "ipython3",
   "version": "3.9.7"
  }
 },
 "nbformat": 4,
 "nbformat_minor": 2
}
